{
 "cells": [
  {
   "attachments": {},
   "cell_type": "markdown",
   "metadata": {},
   "source": [
    "Partially from https://keras.io/examples/timeseries/timeseries_transformer_classification/"
   ]
  },
  {
   "cell_type": "markdown",
   "metadata": {
    "id": "OOECNs4Aemhr"
   },
   "source": [
    "### Load the Dataset\n"
   ]
  },
  {
   "cell_type": "markdown",
   "metadata": {
    "id": "HuJjOJaJrx0q"
   },
   "source": [
    "FordA\n",
    "- This data was originally used in a competition in the IEEE World Congress on Computational Intelligence, 2008. \n",
    "- The classification problem is to diagnose whether a certain symptom exists or does not exist in an automotive subsystem. \n",
    "- Each case consists of 500 measurements of engine noise and a classification. \n",
    "- There are two separate problems: For FordA the Train and test data set were collected in typical operating conditions, with minimal noise contamination."
   ]
  },
  {
   "attachments": {},
   "cell_type": "markdown",
   "metadata": {
    "id": "d2DUj0pbrx0q"
   },
   "source": [
    "![fordA](./figure/FordA.png)"
   ]
  },
  {
   "cell_type": "markdown",
   "metadata": {
    "id": "ceQzYCKrtvnD"
   },
   "source": [
    "### check data"
   ]
  },
  {
   "cell_type": "code",
   "execution_count": 1,
   "metadata": {
    "id": "A9WZoKgteg0F"
   },
   "outputs": [],
   "source": [
    "import numpy as np\n",
    "\n",
    "\n",
    "def readucr(filename):\n",
    "    data = np.loadtxt(filename, delimiter=\"\\t\")\n",
    "    y = data[:, 0]\n",
    "    x = data[:, 1:]\n",
    "    return x, y.astype(int)\n",
    "\n",
    "\n",
    "root_url = \"https://raw.githubusercontent.com/hfawaz/cd-diagram/master/FordA/\""
   ]
  },
  {
   "cell_type": "code",
   "execution_count": 2,
   "metadata": {
    "id": "xGUMk8a0sSQq"
   },
   "outputs": [],
   "source": [
    "data = np.loadtxt(root_url +\"FordA_TRAIN.tsv\", delimiter=\"\\t\")"
   ]
  },
  {
   "cell_type": "code",
   "execution_count": 3,
   "metadata": {
    "colab": {
     "base_uri": "https://localhost:8080/"
    },
    "id": "HhBns3qmtTbp",
    "outputId": "6fda4dd6-0b73-4949-fe77-404ec13a4d75"
   },
   "outputs": [
    {
     "data": {
      "text/plain": [
       "(3601, 501)"
      ]
     },
     "execution_count": 3,
     "metadata": {},
     "output_type": "execute_result"
    }
   ],
   "source": [
    "data.shape"
   ]
  },
  {
   "cell_type": "code",
   "execution_count": 4,
   "metadata": {
    "colab": {
     "base_uri": "https://localhost:8080/"
    },
    "id": "sdWaeTnwsl1S",
    "outputId": "f83ec795-f554-4ac5-8fb9-27cc3c70c850"
   },
   "outputs": [
    {
     "data": {
      "text/plain": [
       "(501,)"
      ]
     },
     "execution_count": 4,
     "metadata": {},
     "output_type": "execute_result"
    }
   ],
   "source": [
    "data[0].shape"
   ]
  },
  {
   "cell_type": "code",
   "execution_count": 5,
   "metadata": {
    "id": "xVRxMc5qtHt5"
   },
   "outputs": [],
   "source": [
    "import pandas as pd"
   ]
  },
  {
   "cell_type": "code",
   "execution_count": 6,
   "metadata": {
    "colab": {
     "base_uri": "https://localhost:8080/",
     "height": 235
    },
    "id": "eS4UUilXsqzw",
    "outputId": "60a9ea25-9d6d-4d39-aa73-28f3c6dcc4b1"
   },
   "outputs": [
    {
     "data": {
      "text/html": [
       "<div>\n",
       "<style scoped>\n",
       "    .dataframe tbody tr th:only-of-type {\n",
       "        vertical-align: middle;\n",
       "    }\n",
       "\n",
       "    .dataframe tbody tr th {\n",
       "        vertical-align: top;\n",
       "    }\n",
       "\n",
       "    .dataframe thead th {\n",
       "        text-align: right;\n",
       "    }\n",
       "</style>\n",
       "<table border=\"1\" class=\"dataframe\">\n",
       "  <thead>\n",
       "    <tr style=\"text-align: right;\">\n",
       "      <th></th>\n",
       "      <th>0</th>\n",
       "      <th>1</th>\n",
       "      <th>2</th>\n",
       "      <th>3</th>\n",
       "      <th>4</th>\n",
       "      <th>5</th>\n",
       "      <th>6</th>\n",
       "      <th>7</th>\n",
       "      <th>8</th>\n",
       "      <th>9</th>\n",
       "      <th>...</th>\n",
       "      <th>491</th>\n",
       "      <th>492</th>\n",
       "      <th>493</th>\n",
       "      <th>494</th>\n",
       "      <th>495</th>\n",
       "      <th>496</th>\n",
       "      <th>497</th>\n",
       "      <th>498</th>\n",
       "      <th>499</th>\n",
       "      <th>500</th>\n",
       "    </tr>\n",
       "  </thead>\n",
       "  <tbody>\n",
       "    <tr>\n",
       "      <th>0</th>\n",
       "      <td>-1.0</td>\n",
       "      <td>-0.797172</td>\n",
       "      <td>-0.664392</td>\n",
       "      <td>-0.373015</td>\n",
       "      <td>0.040815</td>\n",
       "      <td>0.526936</td>\n",
       "      <td>0.984288</td>\n",
       "      <td>1.353120</td>\n",
       "      <td>1.578108</td>\n",
       "      <td>1.659251</td>\n",
       "      <td>...</td>\n",
       "      <td>1.120756</td>\n",
       "      <td>0.722417</td>\n",
       "      <td>0.362068</td>\n",
       "      <td>0.092083</td>\n",
       "      <td>-0.081268</td>\n",
       "      <td>-0.212573</td>\n",
       "      <td>-0.391456</td>\n",
       "      <td>-0.664392</td>\n",
       "      <td>-1.073796</td>\n",
       "      <td>-1.564343</td>\n",
       "    </tr>\n",
       "    <tr>\n",
       "      <th>1</th>\n",
       "      <td>1.0</td>\n",
       "      <td>0.804855</td>\n",
       "      <td>0.634629</td>\n",
       "      <td>0.373474</td>\n",
       "      <td>0.038343</td>\n",
       "      <td>-0.340988</td>\n",
       "      <td>-0.740860</td>\n",
       "      <td>-1.109667</td>\n",
       "      <td>-1.395357</td>\n",
       "      <td>-1.570192</td>\n",
       "      <td>...</td>\n",
       "      <td>0.386403</td>\n",
       "      <td>0.049213</td>\n",
       "      <td>-0.258138</td>\n",
       "      <td>-0.510583</td>\n",
       "      <td>-0.683647</td>\n",
       "      <td>-0.773817</td>\n",
       "      <td>-0.785255</td>\n",
       "      <td>-0.714885</td>\n",
       "      <td>-0.560443</td>\n",
       "      <td>-0.319086</td>\n",
       "    </tr>\n",
       "    <tr>\n",
       "      <th>2</th>\n",
       "      <td>-1.0</td>\n",
       "      <td>0.727985</td>\n",
       "      <td>0.111284</td>\n",
       "      <td>-0.499124</td>\n",
       "      <td>-1.068629</td>\n",
       "      <td>-1.578351</td>\n",
       "      <td>-1.990534</td>\n",
       "      <td>-2.302031</td>\n",
       "      <td>-2.503403</td>\n",
       "      <td>-2.585211</td>\n",
       "      <td>...</td>\n",
       "      <td>0.394463</td>\n",
       "      <td>0.463685</td>\n",
       "      <td>0.507735</td>\n",
       "      <td>0.517174</td>\n",
       "      <td>0.504588</td>\n",
       "      <td>0.476270</td>\n",
       "      <td>0.438513</td>\n",
       "      <td>0.394463</td>\n",
       "      <td>0.339400</td>\n",
       "      <td>0.255391</td>\n",
       "    </tr>\n",
       "    <tr>\n",
       "      <th>3</th>\n",
       "      <td>-1.0</td>\n",
       "      <td>-0.234439</td>\n",
       "      <td>-0.502157</td>\n",
       "      <td>-0.732488</td>\n",
       "      <td>-0.946128</td>\n",
       "      <td>-1.139739</td>\n",
       "      <td>-1.323336</td>\n",
       "      <td>-1.490243</td>\n",
       "      <td>-1.607077</td>\n",
       "      <td>-1.620430</td>\n",
       "      <td>...</td>\n",
       "      <td>-0.952804</td>\n",
       "      <td>-0.929437</td>\n",
       "      <td>-0.922761</td>\n",
       "      <td>-0.929437</td>\n",
       "      <td>-0.909409</td>\n",
       "      <td>-0.835970</td>\n",
       "      <td>-0.695768</td>\n",
       "      <td>-0.478790</td>\n",
       "      <td>-0.188707</td>\n",
       "      <td>0.119736</td>\n",
       "    </tr>\n",
       "    <tr>\n",
       "      <th>4</th>\n",
       "      <td>-1.0</td>\n",
       "      <td>-0.171328</td>\n",
       "      <td>-0.062285</td>\n",
       "      <td>0.235829</td>\n",
       "      <td>0.710396</td>\n",
       "      <td>1.239969</td>\n",
       "      <td>1.649823</td>\n",
       "      <td>1.876321</td>\n",
       "      <td>1.865535</td>\n",
       "      <td>1.703751</td>\n",
       "      <td>...</td>\n",
       "      <td>0.776188</td>\n",
       "      <td>0.725496</td>\n",
       "      <td>0.697453</td>\n",
       "      <td>0.731967</td>\n",
       "      <td>0.808545</td>\n",
       "      <td>0.839823</td>\n",
       "      <td>0.733046</td>\n",
       "      <td>0.437520</td>\n",
       "      <td>-0.026585</td>\n",
       "      <td>-0.602213</td>\n",
       "    </tr>\n",
       "  </tbody>\n",
       "</table>\n",
       "<p>5 rows × 501 columns</p>\n",
       "</div>"
      ],
      "text/plain": [
       "   0         1         2         3         4         5         6         7    \\\n",
       "0 -1.0 -0.797172 -0.664392 -0.373015  0.040815  0.526936  0.984288  1.353120   \n",
       "1  1.0  0.804855  0.634629  0.373474  0.038343 -0.340988 -0.740860 -1.109667   \n",
       "2 -1.0  0.727985  0.111284 -0.499124 -1.068629 -1.578351 -1.990534 -2.302031   \n",
       "3 -1.0 -0.234439 -0.502157 -0.732488 -0.946128 -1.139739 -1.323336 -1.490243   \n",
       "4 -1.0 -0.171328 -0.062285  0.235829  0.710396  1.239969  1.649823  1.876321   \n",
       "\n",
       "        8         9    ...       491       492       493       494       495  \\\n",
       "0  1.578108  1.659251  ...  1.120756  0.722417  0.362068  0.092083 -0.081268   \n",
       "1 -1.395357 -1.570192  ...  0.386403  0.049213 -0.258138 -0.510583 -0.683647   \n",
       "2 -2.503403 -2.585211  ...  0.394463  0.463685  0.507735  0.517174  0.504588   \n",
       "3 -1.607077 -1.620430  ... -0.952804 -0.929437 -0.922761 -0.929437 -0.909409   \n",
       "4  1.865535  1.703751  ...  0.776188  0.725496  0.697453  0.731967  0.808545   \n",
       "\n",
       "        496       497       498       499       500  \n",
       "0 -0.212573 -0.391456 -0.664392 -1.073796 -1.564343  \n",
       "1 -0.773817 -0.785255 -0.714885 -0.560443 -0.319086  \n",
       "2  0.476270  0.438513  0.394463  0.339400  0.255391  \n",
       "3 -0.835970 -0.695768 -0.478790 -0.188707  0.119736  \n",
       "4  0.839823  0.733046  0.437520 -0.026585 -0.602213  \n",
       "\n",
       "[5 rows x 501 columns]"
      ]
     },
     "execution_count": 6,
     "metadata": {},
     "output_type": "execute_result"
    }
   ],
   "source": [
    "df = pd.DataFrame(data)\n",
    "df.head()\n",
    "#print(df.shape)"
   ]
  },
  {
   "cell_type": "code",
   "execution_count": 7,
   "metadata": {
    "id": "KiOHdzs7skZT"
   },
   "outputs": [],
   "source": [
    "x_train, y_train = readucr(root_url + \"FordA_TRAIN.tsv\")\n",
    "x_test, y_test = readucr(root_url + \"FordA_TEST.tsv\")"
   ]
  },
  {
   "cell_type": "code",
   "execution_count": 8,
   "metadata": {
    "colab": {
     "base_uri": "https://localhost:8080/"
    },
    "id": "P5i61e_Xrx0s",
    "outputId": "665ca170-ca45-4189-ae68-27d31265a3a1"
   },
   "outputs": [
    {
     "name": "stdout",
     "output_type": "stream",
     "text": [
      "(3601, 500) (3601,)\n"
     ]
    }
   ],
   "source": [
    "print(x_train.shape, y_train.shape)"
   ]
  },
  {
   "cell_type": "code",
   "execution_count": 9,
   "metadata": {
    "colab": {
     "base_uri": "https://localhost:8080/"
    },
    "id": "QHnd2-Marx0u",
    "outputId": "7ba8b512-6822-43cd-fca6-d25346f23d20"
   },
   "outputs": [
    {
     "name": "stdout",
     "output_type": "stream",
     "text": [
      "(1320, 500) (1320,)\n"
     ]
    }
   ],
   "source": [
    "print(x_test.shape, y_test.shape)"
   ]
  },
  {
   "cell_type": "code",
   "execution_count": 10,
   "metadata": {
    "colab": {
     "base_uri": "https://localhost:8080/"
    },
    "id": "Z_WEVrt_rx0u",
    "outputId": "ca9d1b9a-ae91-42bd-8656-00079091f277"
   },
   "outputs": [
    {
     "name": "stdout",
     "output_type": "stream",
     "text": [
      "2 [-1  1]\n"
     ]
    }
   ],
   "source": [
    "n_classes = len(np.unique(y_train))\n",
    "print(n_classes, np.unique(y_train))\n"
   ]
  },
  {
   "cell_type": "code",
   "execution_count": 11,
   "metadata": {
    "colab": {
     "base_uri": "https://localhost:8080/"
    },
    "id": "TYpUvmMZrx0v",
    "outputId": "ef6a0b6b-520c-44f7-d561-e52d0ddf12d0"
   },
   "outputs": [
    {
     "name": "stdout",
     "output_type": "stream",
     "text": [
      "1846 1755\n",
      "681 639\n"
     ]
    }
   ],
   "source": [
    "print( np.sum(y_train == -1), np.sum(y_train == 1))\n",
    "print( np.sum(y_test == -1), np.sum(y_test == 1))"
   ]
  },
  {
   "cell_type": "code",
   "execution_count": 12,
   "metadata": {
    "id": "JyPaW1qOrx0v"
   },
   "outputs": [],
   "source": [
    "x_train = x_train.reshape((x_train.shape[0], x_train.shape[1], 1))\n",
    "x_test = x_test.reshape((x_test.shape[0], x_test.shape[1], 1))"
   ]
  },
  {
   "cell_type": "markdown",
   "metadata": {
    "id": "ZsmAGLtQupPG"
   },
   "source": [
    "Check dataset shape"
   ]
  },
  {
   "cell_type": "code",
   "execution_count": 13,
   "metadata": {
    "colab": {
     "base_uri": "https://localhost:8080/"
    },
    "id": "KZ1SmIXWt8x5",
    "outputId": "d06f6f59-9c7a-4b3d-bcce-5807f51fa2d9"
   },
   "outputs": [
    {
     "name": "stdout",
     "output_type": "stream",
     "text": [
      "(3601, 500, 1)\n",
      "(1320, 500, 1)\n"
     ]
    }
   ],
   "source": [
    "print(x_train.shape)\n",
    "print(x_test.shape)"
   ]
  },
  {
   "cell_type": "markdown",
   "metadata": {
    "id": "4rRp9_POuczS"
   },
   "source": [
    "Shuffling datasets"
   ]
  },
  {
   "cell_type": "code",
   "execution_count": 14,
   "metadata": {
    "id": "Ta9PRiG1rx0w"
   },
   "outputs": [],
   "source": [
    "idx = np.random.permutation(len(x_train))\n",
    "x_train = x_train[idx]\n",
    "y_train = y_train[idx]\n",
    "\n",
    "y_train[y_train == -1] = 0\n",
    "y_test[y_test == -1] = 0"
   ]
  },
  {
   "cell_type": "code",
   "execution_count": 15,
   "metadata": {
    "colab": {
     "base_uri": "https://localhost:8080/"
    },
    "id": "aw-dzZ_3haWb",
    "outputId": "7298244f-103e-4512-f673-8ba1fa149da5"
   },
   "outputs": [
    {
     "name": "stdout",
     "output_type": "stream",
     "text": [
      "(3601, 500, 1) (3601,)\n",
      "(1320, 500, 1) (1320,)\n"
     ]
    }
   ],
   "source": [
    "print(x_train.shape, y_train.shape)\n",
    "print(x_test.shape, y_test.shape)"
   ]
  },
  {
   "cell_type": "code",
   "execution_count": 16,
   "metadata": {
    "colab": {
     "base_uri": "https://localhost:8080/",
     "height": 430
    },
    "id": "rC6l2myrr3Om",
    "outputId": "f54b5740-4473-40ea-8c2a-43643a216bda"
   },
   "outputs": [
    {
     "data": {
      "image/png": "[encoded data removed]",
      "text/plain": [
       "<Figure size 640x480 with 1 Axes>"
      ]
     },
     "metadata": {},
     "output_type": "display_data"
    }
   ],
   "source": [
    "import matplotlib.pyplot as plt\n",
    "#Lets plot a  data\n",
    "indices = np.where(y_train == 1)\n",
    "plt.plot(np.arange(500), x_train[indices[0][4]])\n",
    "plt.grid()\n",
    "plt.show()"
   ]
  },
  {
   "cell_type": "code",
   "execution_count": 17,
   "metadata": {
    "colab": {
     "base_uri": "https://localhost:8080/",
     "height": 430
    },
    "id": "yZTjhhzIvhX2",
    "outputId": "b11a2ef7-5120-4c9f-cef1-289ecc7e1902"
   },
   "outputs": [
    {
     "data": {
      "image/png": "[encoded data removed]",
      "text/plain": [
       "<Figure size 640x480 with 1 Axes>"
      ]
     },
     "metadata": {},
     "output_type": "display_data"
    }
   ],
   "source": [
    "import matplotlib.pyplot as plt\n",
    "#Lets plot a  data\n",
    "indices = np.where(y_train == 0)\n",
    "plt.plot(np.arange(500), x_train[indices[0][-10]])\n",
    "plt.grid()\n",
    "plt.show()"
   ]
  },
  {
   "cell_type": "markdown",
   "metadata": {},
   "source": [
    "#### Build a model"
   ]
  },
  {
   "cell_type": "code",
   "execution_count": 18,
   "metadata": {
    "id": "3JHAkbRtehpx"
   },
   "outputs": [],
   "source": [
    "from tensorflow import keras\n",
    "from tensorflow.keras import layers"
   ]
  },
  {
   "attachments": {},
   "cell_type": "markdown",
   "metadata": {
    "id": "repIFXGorx0x"
   },
   "source": [
    "![transfomer1](./figure/transformer.png)"
   ]
  },
  {
   "cell_type": "markdown",
   "metadata": {
    "id": "nCy65JviwE5b"
   },
   "source": [
    "- Attention mechanism instead of convolutional or recurrent units\n",
    "\n",
    "- Global dependencies between input and output\n",
    "\n",
    "- More parallelization\n",
    "\n",
    "- Reduced effective resolution\n",
    "\n"
   ]
  },
  {
   "attachments": {},
   "cell_type": "markdown",
   "metadata": {
    "id": "7jnSdb63yLry"
   },
   "source": [
    "![trans2](./figure/transformer2.png)"
   ]
  },
  {
   "cell_type": "markdown",
   "metadata": {
    "id": "xjnNsyR4ylGB"
   },
   "source": [
    "- Parallel encoder + autoregressive decoder\n",
    "- Positioanl encoding, skip connection, layer normalizatoin, dropout"
   ]
  },
  {
   "cell_type": "markdown",
   "metadata": {
    "id": "d6RIQhxDy36T"
   },
   "source": [
    "Encoder consistes of N = 6 identical layers\n",
    "- 1st sublayer : multi-head self attention\n",
    "- 2nd sublayer : position-wise fully connected(FC) layer\n",
    "- Residual Connection + layer norm (LayerNorm ( x + sublayer(x))\n",
    "\n",
    "In all sublayers, d_model = 512"
   ]
  },
  {
   "cell_type": "code",
   "execution_count": 19,
   "metadata": {
    "id": "bnVPK7Eve8wj"
   },
   "outputs": [],
   "source": [
    "def transformer_encoder(inputs, head_size, num_heads, ff_dim, dropout=0):\n",
    "    # Normalization and Attention\n",
    "    x = layers.LayerNormalization(epsilon=1e-6)(inputs)\n",
    "    x = layers.MultiHeadAttention(\n",
    "        key_dim=head_size, num_heads=num_heads, dropout=dropout\n",
    "    )(x, x)\n",
    "    x = layers.Dropout(dropout)(x)\n",
    "    res = x + inputs\n",
    "\n",
    "    # Feed Forward Part\n",
    "    x = layers.LayerNormalization(epsilon=1e-6)(res)\n",
    "    x = layers.Conv1D(filters=ff_dim, kernel_size=1, activation=\"relu\")(x)\n",
    "    x = layers.Dropout(dropout)(x)\n",
    "    x = layers.Conv1D(filters=inputs.shape[-1], kernel_size=1)(x)\n",
    "    return x + res"
   ]
  },
  {
   "cell_type": "code",
   "execution_count": 20,
   "metadata": {
    "id": "sHEsXGHKe9NH"
   },
   "outputs": [],
   "source": [
    "def build_model(\n",
    "    input_shape,\n",
    "    head_size, \n",
    "    num_heads,\n",
    "    ff_dim,\n",
    "    num_transformer_blocks,\n",
    "    mlp_units,\n",
    "    dropout=0,\n",
    "    mlp_dropout=0,\n",
    "):\n",
    "    inputs = keras.Input(shape=input_shape)\n",
    "    x = inputs\n",
    "    for _ in range(num_transformer_blocks):\n",
    "        x = transformer_encoder(x, head_size, num_heads, ff_dim, dropout)\n",
    "\n",
    "    x = layers.GlobalAveragePooling1D(data_format=\"channels_first\")(x)\n",
    "    for dim in mlp_units:\n",
    "        x = layers.Dense(dim, activation=\"relu\")(x)\n",
    "        x = layers.Dropout(mlp_dropout)(x)\n",
    "    outputs = layers.Dense(n_classes, activation=\"softmax\")(x)\n",
    "    return keras.Model(inputs, outputs)\n"
   ]
  },
  {
   "cell_type": "code",
   "execution_count": 21,
   "metadata": {
    "colab": {
     "base_uri": "https://localhost:8080/"
    },
    "id": "44vVaNT5z_pr",
    "outputId": "5d91ecb2-d681-463c-f241-8e069cc719d8"
   },
   "outputs": [
    {
     "data": {
      "text/plain": [
       "(3601, 500, 1)"
      ]
     },
     "execution_count": 21,
     "metadata": {},
     "output_type": "execute_result"
    }
   ],
   "source": [
    "x_train.shape # (datasize, timestep, features)"
   ]
  },
  {
   "cell_type": "code",
   "execution_count": 22,
   "metadata": {
    "colab": {
     "base_uri": "https://localhost:8080/"
    },
    "id": "YQdBvnW3e_B3",
    "outputId": "cfd2f87a-2c04-4d2f-b21d-63805d396824"
   },
   "outputs": [
    {
     "name": "stdout",
     "output_type": "stream",
     "text": [
      "Model: \"model\"\n",
      "__________________________________________________________________________________________________\n",
      " Layer (type)                   Output Shape         Param #     Connected to                     \n",
      "==================================================================================================\n",
      " input_1 (InputLayer)           [(None, 500, 1)]     0           []                               \n",
      "                                                                                                  \n",
      " layer_normalization (LayerNorm  (None, 500, 1)      2           ['input_1[0][0]']                \n",
      " alization)                                                                                       \n",
      "                                                                                                  \n",
      " multi_head_attention (MultiHea  (None, 500, 1)      449         ['layer_normalization[0][0]',    \n",
      " dAttention)                                                      'layer_normalization[0][0]']    \n",
      "                                                                                                  \n",
      " dropout (Dropout)              (None, 500, 1)       0           ['multi_head_attention[0][0]']   \n",
      "                                                                                                  \n",
      " tf.__operators__.add (TFOpLamb  (None, 500, 1)      0           ['dropout[0][0]',                \n",
      " da)                                                              'input_1[0][0]']                \n",
      "                                                                                                  \n",
      " layer_normalization_1 (LayerNo  (None, 500, 1)      2           ['tf.__operators__.add[0][0]']   \n",
      " rmalization)                                                                                     \n",
      "                                                                                                  \n",
      " conv1d (Conv1D)                (None, 500, 1)       2           ['layer_normalization_1[0][0]']  \n",
      "                                                                                                  \n",
      " dropout_1 (Dropout)            (None, 500, 1)       0           ['conv1d[0][0]']                 \n",
      "                                                                                                  \n",
      " conv1d_1 (Conv1D)              (None, 500, 1)       2           ['dropout_1[0][0]']              \n",
      "                                                                                                  \n",
      " tf.__operators__.add_1 (TFOpLa  (None, 500, 1)      0           ['conv1d_1[0][0]',               \n",
      " mbda)                                                            'tf.__operators__.add[0][0]']   \n",
      "                                                                                                  \n",
      " global_average_pooling1d (Glob  (None, 500)         0           ['tf.__operators__.add_1[0][0]'] \n",
      " alAveragePooling1D)                                                                              \n",
      "                                                                                                  \n",
      " dense (Dense)                  (None, 32)           16032       ['global_average_pooling1d[0][0]'\n",
      "                                                                 ]                                \n",
      "                                                                                                  \n",
      " dropout_2 (Dropout)            (None, 32)           0           ['dense[0][0]']                  \n",
      "                                                                                                  \n",
      " dense_1 (Dense)                (None, 2)            66          ['dropout_2[0][0]']              \n",
      "                                                                                                  \n",
      "==================================================================================================\n",
      "Total params: 16,555\n",
      "Trainable params: 16,555\n",
      "Non-trainable params: 0\n",
      "__________________________________________________________________________________________________\n"
     ]
    }
   ],
   "source": [
    "input_shape = x_train.shape[1:]\n",
    "\n",
    "model = build_model(\n",
    "    input_shape,\n",
    "    head_size=64,\n",
    "    num_heads=1,\n",
    "    ff_dim=1,\n",
    "    num_transformer_blocks=1,\n",
    "    mlp_units=[32],\n",
    "    mlp_dropout=0.4,\n",
    "    dropout=0.25,\n",
    ")\n",
    "\n",
    "model.compile(\n",
    "    loss=\"sparse_categorical_crossentropy\",\n",
    "    optimizer=keras.optimizers.Adam(learning_rate=1e-4),\n",
    "    metrics=[\"sparse_categorical_accuracy\"],\n",
    ")\n",
    "model.summary()\n",
    "\n",
    "callbacks = [keras.callbacks.EarlyStopping(patience=10, restore_best_weights=True)]\n",
    "\n"
   ]
  },
  {
   "cell_type": "markdown",
   "metadata": {},
   "source": [
    "#### Train the model"
   ]
  },
  {
   "cell_type": "code",
   "execution_count": 23,
   "metadata": {
    "colab": {
     "base_uri": "https://localhost:8080/"
    },
    "id": "kN8wFBoWiCdY",
    "outputId": "fce10ebd-1854-486d-e051-082b9afc3040",
    "scrolled": true
   },
   "outputs": [
    {
     "name": "stdout",
     "output_type": "stream",
     "text": [
      "Epoch 1/200\n",
      "45/45 [==============================] - 2s 15ms/step - loss: 1.0997 - sparse_categorical_accuracy: 0.5181 - val_loss: 0.8490 - val_sparse_categorical_accuracy: 0.5187\n",
      "Epoch 2/200\n",
      "45/45 [==============================] - 0s 10ms/step - loss: 0.9788 - sparse_categorical_accuracy: 0.5278 - val_loss: 0.7897 - val_sparse_categorical_accuracy: 0.5381\n",
      "Epoch 3/200\n",
      "45/45 [==============================] - 0s 10ms/step - loss: 0.9407 - sparse_categorical_accuracy: 0.5385 - val_loss: 0.7534 - val_sparse_categorical_accuracy: 0.5562\n",
      "Epoch 4/200\n",
      "45/45 [==============================] - 0s 10ms/step - loss: 0.8788 - sparse_categorical_accuracy: 0.5663 - val_loss: 0.7273 - val_sparse_categorical_accuracy: 0.5770\n",
      "Epoch 5/200\n",
      "45/45 [==============================] - 0s 10ms/step - loss: 0.8394 - sparse_categorical_accuracy: 0.5760 - val_loss: 0.7048 - val_sparse_categorical_accuracy: 0.5825\n",
      "Epoch 6/200\n",
      "45/45 [==============================] - 0s 10ms/step - loss: 0.8189 - sparse_categorical_accuracy: 0.5813 - val_loss: 0.6866 - val_sparse_categorical_accuracy: 0.5978\n",
      "Epoch 7/200\n",
      "45/45 [==============================] - 0s 10ms/step - loss: 0.7590 - sparse_categorical_accuracy: 0.6153 - val_loss: 0.6734 - val_sparse_categorical_accuracy: 0.6075\n",
      "Epoch 8/200\n",
      "45/45 [==============================] - 0s 10ms/step - loss: 0.7602 - sparse_categorical_accuracy: 0.6156 - val_loss: 0.6599 - val_sparse_categorical_accuracy: 0.6269\n",
      "Epoch 9/200\n",
      "45/45 [==============================] - 0s 10ms/step - loss: 0.7514 - sparse_categorical_accuracy: 0.6149 - val_loss: 0.6490 - val_sparse_categorical_accuracy: 0.6297\n",
      "Epoch 10/200\n",
      "45/45 [==============================] - 0s 10ms/step - loss: 0.7213 - sparse_categorical_accuracy: 0.6292 - val_loss: 0.6393 - val_sparse_categorical_accuracy: 0.6422\n",
      "Epoch 11/200\n",
      "45/45 [==============================] - 0s 10ms/step - loss: 0.6955 - sparse_categorical_accuracy: 0.6302 - val_loss: 0.6312 - val_sparse_categorical_accuracy: 0.6422\n",
      "Epoch 12/200\n",
      "45/45 [==============================] - 0s 10ms/step - loss: 0.7004 - sparse_categorical_accuracy: 0.6215 - val_loss: 0.6217 - val_sparse_categorical_accuracy: 0.6505\n",
      "Epoch 13/200\n",
      "45/45 [==============================] - 0s 10ms/step - loss: 0.6568 - sparse_categorical_accuracy: 0.6479 - val_loss: 0.6161 - val_sparse_categorical_accuracy: 0.6602\n",
      "Epoch 14/200\n",
      "45/45 [==============================] - 0s 10ms/step - loss: 0.6445 - sparse_categorical_accuracy: 0.6521 - val_loss: 0.6093 - val_sparse_categorical_accuracy: 0.6657\n",
      "Epoch 15/200\n",
      "45/45 [==============================] - 0s 10ms/step - loss: 0.6470 - sparse_categorical_accuracy: 0.6427 - val_loss: 0.6035 - val_sparse_categorical_accuracy: 0.6782\n",
      "Epoch 16/200\n",
      "45/45 [==============================] - 0s 10ms/step - loss: 0.6235 - sparse_categorical_accuracy: 0.6632 - val_loss: 0.5985 - val_sparse_categorical_accuracy: 0.6755\n",
      "Epoch 17/200\n",
      "45/45 [==============================] - 0s 10ms/step - loss: 0.6201 - sparse_categorical_accuracy: 0.6663 - val_loss: 0.5930 - val_sparse_categorical_accuracy: 0.6838\n",
      "Epoch 18/200\n",
      "45/45 [==============================] - 0s 10ms/step - loss: 0.6000 - sparse_categorical_accuracy: 0.6722 - val_loss: 0.5877 - val_sparse_categorical_accuracy: 0.6852\n",
      "Epoch 19/200\n",
      "45/45 [==============================] - 0s 10ms/step - loss: 0.5956 - sparse_categorical_accuracy: 0.6965 - val_loss: 0.5840 - val_sparse_categorical_accuracy: 0.6935\n",
      "Epoch 20/200\n",
      "45/45 [==============================] - 0s 10ms/step - loss: 0.5863 - sparse_categorical_accuracy: 0.6941 - val_loss: 0.5808 - val_sparse_categorical_accuracy: 0.6963\n",
      "Epoch 21/200\n",
      "45/45 [==============================] - 0s 10ms/step - loss: 0.5799 - sparse_categorical_accuracy: 0.7007 - val_loss: 0.5782 - val_sparse_categorical_accuracy: 0.6963\n",
      "Epoch 22/200\n",
      "45/45 [==============================] - 0s 10ms/step - loss: 0.5681 - sparse_categorical_accuracy: 0.6979 - val_loss: 0.5737 - val_sparse_categorical_accuracy: 0.7060\n",
      "Epoch 23/200\n",
      "45/45 [==============================] - 0s 10ms/step - loss: 0.5693 - sparse_categorical_accuracy: 0.7056 - val_loss: 0.5711 - val_sparse_categorical_accuracy: 0.7032\n",
      "Epoch 24/200\n",
      "45/45 [==============================] - 0s 10ms/step - loss: 0.5439 - sparse_categorical_accuracy: 0.7201 - val_loss: 0.5678 - val_sparse_categorical_accuracy: 0.7046\n",
      "Epoch 25/200\n",
      "45/45 [==============================] - 0s 10ms/step - loss: 0.5530 - sparse_categorical_accuracy: 0.7188 - val_loss: 0.5669 - val_sparse_categorical_accuracy: 0.7060\n",
      "Epoch 26/200\n",
      "45/45 [==============================] - 0s 10ms/step - loss: 0.5467 - sparse_categorical_accuracy: 0.7174 - val_loss: 0.5609 - val_sparse_categorical_accuracy: 0.7115\n",
      "Epoch 27/200\n",
      "45/45 [==============================] - 0s 10ms/step - loss: 0.5397 - sparse_categorical_accuracy: 0.7163 - val_loss: 0.5596 - val_sparse_categorical_accuracy: 0.7143\n",
      "Epoch 28/200\n",
      "45/45 [==============================] - 0s 10ms/step - loss: 0.5309 - sparse_categorical_accuracy: 0.7285 - val_loss: 0.5569 - val_sparse_categorical_accuracy: 0.7212\n",
      "Epoch 29/200\n",
      "45/45 [==============================] - 0s 10ms/step - loss: 0.5289 - sparse_categorical_accuracy: 0.7281 - val_loss: 0.5537 - val_sparse_categorical_accuracy: 0.7212\n",
      "Epoch 30/200\n",
      "45/45 [==============================] - 0s 10ms/step - loss: 0.5183 - sparse_categorical_accuracy: 0.7406 - val_loss: 0.5508 - val_sparse_categorical_accuracy: 0.7212\n",
      "Epoch 31/200\n",
      "45/45 [==============================] - 0s 10ms/step - loss: 0.5123 - sparse_categorical_accuracy: 0.7431 - val_loss: 0.5485 - val_sparse_categorical_accuracy: 0.7198\n",
      "Epoch 32/200\n",
      "45/45 [==============================] - 0s 10ms/step - loss: 0.5169 - sparse_categorical_accuracy: 0.7406 - val_loss: 0.5451 - val_sparse_categorical_accuracy: 0.7268\n",
      "Epoch 33/200\n",
      "45/45 [==============================] - 0s 10ms/step - loss: 0.5246 - sparse_categorical_accuracy: 0.7323 - val_loss: 0.5451 - val_sparse_categorical_accuracy: 0.7268\n",
      "Epoch 34/200\n",
      "45/45 [==============================] - 0s 10ms/step - loss: 0.5023 - sparse_categorical_accuracy: 0.7538 - val_loss: 0.5415 - val_sparse_categorical_accuracy: 0.7309\n",
      "Epoch 35/200\n",
      "45/45 [==============================] - 0s 10ms/step - loss: 0.5186 - sparse_categorical_accuracy: 0.7413 - val_loss: 0.5397 - val_sparse_categorical_accuracy: 0.7379\n",
      "Epoch 36/200\n",
      "45/45 [==============================] - 0s 10ms/step - loss: 0.4989 - sparse_categorical_accuracy: 0.7597 - val_loss: 0.5371 - val_sparse_categorical_accuracy: 0.7420\n",
      "Epoch 37/200\n",
      "45/45 [==============================] - 0s 10ms/step - loss: 0.5046 - sparse_categorical_accuracy: 0.7507 - val_loss: 0.5350 - val_sparse_categorical_accuracy: 0.7365\n",
      "Epoch 38/200\n",
      "45/45 [==============================] - 0s 10ms/step - loss: 0.4919 - sparse_categorical_accuracy: 0.7660 - val_loss: 0.5335 - val_sparse_categorical_accuracy: 0.7462\n",
      "Epoch 39/200\n",
      "45/45 [==============================] - 0s 10ms/step - loss: 0.4856 - sparse_categorical_accuracy: 0.7632 - val_loss: 0.5316 - val_sparse_categorical_accuracy: 0.7490\n",
      "Epoch 40/200\n",
      "45/45 [==============================] - 0s 10ms/step - loss: 0.4833 - sparse_categorical_accuracy: 0.7646 - val_loss: 0.5299 - val_sparse_categorical_accuracy: 0.7545\n",
      "Epoch 41/200\n",
      "45/45 [==============================] - 0s 10ms/step - loss: 0.4912 - sparse_categorical_accuracy: 0.7712 - val_loss: 0.5290 - val_sparse_categorical_accuracy: 0.7503\n",
      "Epoch 42/200\n",
      "45/45 [==============================] - 0s 10ms/step - loss: 0.4722 - sparse_categorical_accuracy: 0.7764 - val_loss: 0.5271 - val_sparse_categorical_accuracy: 0.7573\n",
      "Epoch 43/200\n",
      "45/45 [==============================] - 0s 10ms/step - loss: 0.4690 - sparse_categorical_accuracy: 0.7760 - val_loss: 0.5244 - val_sparse_categorical_accuracy: 0.7573\n",
      "Epoch 44/200\n",
      "45/45 [==============================] - 0s 10ms/step - loss: 0.4781 - sparse_categorical_accuracy: 0.7694 - val_loss: 0.5241 - val_sparse_categorical_accuracy: 0.7587\n",
      "Epoch 45/200\n",
      "45/45 [==============================] - 0s 10ms/step - loss: 0.4649 - sparse_categorical_accuracy: 0.7823 - val_loss: 0.5229 - val_sparse_categorical_accuracy: 0.7601\n",
      "Epoch 46/200\n",
      "45/45 [==============================] - 0s 10ms/step - loss: 0.4607 - sparse_categorical_accuracy: 0.7819 - val_loss: 0.5209 - val_sparse_categorical_accuracy: 0.7614\n",
      "Epoch 47/200\n",
      "45/45 [==============================] - 0s 10ms/step - loss: 0.4706 - sparse_categorical_accuracy: 0.7774 - val_loss: 0.5188 - val_sparse_categorical_accuracy: 0.7601\n",
      "Epoch 48/200\n",
      "45/45 [==============================] - 0s 10ms/step - loss: 0.4519 - sparse_categorical_accuracy: 0.7906 - val_loss: 0.5161 - val_sparse_categorical_accuracy: 0.7614\n",
      "Epoch 49/200\n",
      "45/45 [==============================] - 0s 10ms/step - loss: 0.4572 - sparse_categorical_accuracy: 0.7882 - val_loss: 0.5136 - val_sparse_categorical_accuracy: 0.7670\n",
      "Epoch 50/200\n",
      "45/45 [==============================] - 0s 10ms/step - loss: 0.4516 - sparse_categorical_accuracy: 0.7854 - val_loss: 0.5111 - val_sparse_categorical_accuracy: 0.7628\n",
      "Epoch 51/200\n",
      "45/45 [==============================] - 0s 10ms/step - loss: 0.4496 - sparse_categorical_accuracy: 0.7979 - val_loss: 0.5088 - val_sparse_categorical_accuracy: 0.7684\n",
      "Epoch 52/200\n",
      "45/45 [==============================] - 0s 10ms/step - loss: 0.4471 - sparse_categorical_accuracy: 0.7997 - val_loss: 0.5072 - val_sparse_categorical_accuracy: 0.7698\n",
      "Epoch 53/200\n",
      "45/45 [==============================] - 0s 10ms/step - loss: 0.4483 - sparse_categorical_accuracy: 0.7934 - val_loss: 0.5060 - val_sparse_categorical_accuracy: 0.7684\n",
      "Epoch 54/200\n",
      "45/45 [==============================] - 0s 10ms/step - loss: 0.4473 - sparse_categorical_accuracy: 0.7993 - val_loss: 0.5041 - val_sparse_categorical_accuracy: 0.7739\n",
      "Epoch 55/200\n",
      "45/45 [==============================] - 0s 10ms/step - loss: 0.4457 - sparse_categorical_accuracy: 0.7976 - val_loss: 0.5031 - val_sparse_categorical_accuracy: 0.7698\n",
      "Epoch 56/200\n",
      "45/45 [==============================] - 0s 10ms/step - loss: 0.4434 - sparse_categorical_accuracy: 0.7976 - val_loss: 0.5012 - val_sparse_categorical_accuracy: 0.7725\n",
      "Epoch 57/200\n",
      "45/45 [==============================] - 0s 10ms/step - loss: 0.4337 - sparse_categorical_accuracy: 0.8021 - val_loss: 0.4983 - val_sparse_categorical_accuracy: 0.7725\n",
      "Epoch 58/200\n",
      "45/45 [==============================] - 0s 10ms/step - loss: 0.4245 - sparse_categorical_accuracy: 0.8076 - val_loss: 0.4966 - val_sparse_categorical_accuracy: 0.7767\n",
      "Epoch 59/200\n",
      "45/45 [==============================] - 0s 10ms/step - loss: 0.4386 - sparse_categorical_accuracy: 0.7937 - val_loss: 0.4953 - val_sparse_categorical_accuracy: 0.7767\n",
      "Epoch 60/200\n",
      "45/45 [==============================] - 0s 10ms/step - loss: 0.4266 - sparse_categorical_accuracy: 0.8080 - val_loss: 0.4931 - val_sparse_categorical_accuracy: 0.7781\n",
      "Epoch 61/200\n",
      "45/45 [==============================] - 0s 10ms/step - loss: 0.4236 - sparse_categorical_accuracy: 0.8184 - val_loss: 0.4909 - val_sparse_categorical_accuracy: 0.7795\n",
      "Epoch 62/200\n",
      "45/45 [==============================] - 0s 10ms/step - loss: 0.4368 - sparse_categorical_accuracy: 0.7924 - val_loss: 0.4909 - val_sparse_categorical_accuracy: 0.7767\n",
      "Epoch 63/200\n",
      "45/45 [==============================] - 0s 10ms/step - loss: 0.4212 - sparse_categorical_accuracy: 0.8184 - val_loss: 0.4884 - val_sparse_categorical_accuracy: 0.7836\n",
      "Epoch 64/200\n",
      "45/45 [==============================] - 0s 10ms/step - loss: 0.4214 - sparse_categorical_accuracy: 0.8149 - val_loss: 0.4863 - val_sparse_categorical_accuracy: 0.7836\n",
      "Epoch 65/200\n",
      "45/45 [==============================] - 0s 10ms/step - loss: 0.4338 - sparse_categorical_accuracy: 0.8035 - val_loss: 0.4864 - val_sparse_categorical_accuracy: 0.7809\n",
      "Epoch 66/200\n",
      "45/45 [==============================] - 0s 10ms/step - loss: 0.4249 - sparse_categorical_accuracy: 0.8128 - val_loss: 0.4847 - val_sparse_categorical_accuracy: 0.7836\n",
      "Epoch 67/200\n",
      "45/45 [==============================] - 0s 10ms/step - loss: 0.4199 - sparse_categorical_accuracy: 0.8132 - val_loss: 0.4822 - val_sparse_categorical_accuracy: 0.7864\n",
      "Epoch 68/200\n",
      "45/45 [==============================] - 0s 10ms/step - loss: 0.4156 - sparse_categorical_accuracy: 0.8205 - val_loss: 0.4814 - val_sparse_categorical_accuracy: 0.7850\n",
      "Epoch 69/200\n",
      "45/45 [==============================] - 0s 10ms/step - loss: 0.4060 - sparse_categorical_accuracy: 0.8153 - val_loss: 0.4779 - val_sparse_categorical_accuracy: 0.7822\n",
      "Epoch 70/200\n",
      "45/45 [==============================] - 0s 10ms/step - loss: 0.4179 - sparse_categorical_accuracy: 0.8139 - val_loss: 0.4785 - val_sparse_categorical_accuracy: 0.7864\n",
      "Epoch 71/200\n",
      "45/45 [==============================] - 0s 10ms/step - loss: 0.4075 - sparse_categorical_accuracy: 0.8184 - val_loss: 0.4771 - val_sparse_categorical_accuracy: 0.7809\n",
      "Epoch 72/200\n",
      "45/45 [==============================] - 0s 10ms/step - loss: 0.4000 - sparse_categorical_accuracy: 0.8319 - val_loss: 0.4757 - val_sparse_categorical_accuracy: 0.7809\n",
      "Epoch 73/200\n",
      "45/45 [==============================] - 0s 10ms/step - loss: 0.4070 - sparse_categorical_accuracy: 0.8149 - val_loss: 0.4735 - val_sparse_categorical_accuracy: 0.7920\n",
      "Epoch 74/200\n",
      "45/45 [==============================] - 0s 10ms/step - loss: 0.4006 - sparse_categorical_accuracy: 0.8306 - val_loss: 0.4715 - val_sparse_categorical_accuracy: 0.7892\n",
      "Epoch 75/200\n",
      "45/45 [==============================] - 0s 10ms/step - loss: 0.4061 - sparse_categorical_accuracy: 0.8194 - val_loss: 0.4707 - val_sparse_categorical_accuracy: 0.7864\n",
      "Epoch 76/200\n",
      "45/45 [==============================] - 0s 10ms/step - loss: 0.4009 - sparse_categorical_accuracy: 0.8274 - val_loss: 0.4692 - val_sparse_categorical_accuracy: 0.7836\n",
      "Epoch 77/200\n",
      "45/45 [==============================] - 0s 10ms/step - loss: 0.3952 - sparse_categorical_accuracy: 0.8309 - val_loss: 0.4667 - val_sparse_categorical_accuracy: 0.7892\n",
      "Epoch 78/200\n",
      "45/45 [==============================] - 0s 10ms/step - loss: 0.4009 - sparse_categorical_accuracy: 0.8236 - val_loss: 0.4661 - val_sparse_categorical_accuracy: 0.7906\n",
      "Epoch 79/200\n",
      "45/45 [==============================] - 0s 10ms/step - loss: 0.3910 - sparse_categorical_accuracy: 0.8361 - val_loss: 0.4648 - val_sparse_categorical_accuracy: 0.7906\n",
      "Epoch 80/200\n",
      "45/45 [==============================] - 0s 10ms/step - loss: 0.3909 - sparse_categorical_accuracy: 0.8295 - val_loss: 0.4625 - val_sparse_categorical_accuracy: 0.7878\n",
      "Epoch 81/200\n",
      "45/45 [==============================] - 0s 10ms/step - loss: 0.3931 - sparse_categorical_accuracy: 0.8236 - val_loss: 0.4640 - val_sparse_categorical_accuracy: 0.7864\n",
      "Epoch 82/200\n",
      "45/45 [==============================] - 0s 10ms/step - loss: 0.3804 - sparse_categorical_accuracy: 0.8372 - val_loss: 0.4607 - val_sparse_categorical_accuracy: 0.7947\n",
      "Epoch 83/200\n",
      "45/45 [==============================] - 0s 10ms/step - loss: 0.3842 - sparse_categorical_accuracy: 0.8302 - val_loss: 0.4609 - val_sparse_categorical_accuracy: 0.7906\n",
      "Epoch 84/200\n",
      "45/45 [==============================] - 0s 10ms/step - loss: 0.3898 - sparse_categorical_accuracy: 0.8347 - val_loss: 0.4592 - val_sparse_categorical_accuracy: 0.7906\n",
      "Epoch 85/200\n",
      "45/45 [==============================] - 0s 10ms/step - loss: 0.3854 - sparse_categorical_accuracy: 0.8382 - val_loss: 0.4596 - val_sparse_categorical_accuracy: 0.7906\n",
      "Epoch 86/200\n",
      "45/45 [==============================] - 0s 10ms/step - loss: 0.3836 - sparse_categorical_accuracy: 0.8385 - val_loss: 0.4576 - val_sparse_categorical_accuracy: 0.7933\n",
      "Epoch 87/200\n",
      "45/45 [==============================] - 0s 10ms/step - loss: 0.3935 - sparse_categorical_accuracy: 0.8306 - val_loss: 0.4570 - val_sparse_categorical_accuracy: 0.7989\n",
      "Epoch 88/200\n",
      "45/45 [==============================] - 0s 10ms/step - loss: 0.3824 - sparse_categorical_accuracy: 0.8347 - val_loss: 0.4551 - val_sparse_categorical_accuracy: 0.8003\n",
      "Epoch 89/200\n",
      "45/45 [==============================] - 0s 10ms/step - loss: 0.3846 - sparse_categorical_accuracy: 0.8330 - val_loss: 0.4546 - val_sparse_categorical_accuracy: 0.7989\n",
      "Epoch 90/200\n",
      "45/45 [==============================] - 0s 10ms/step - loss: 0.3851 - sparse_categorical_accuracy: 0.8264 - val_loss: 0.4537 - val_sparse_categorical_accuracy: 0.7989\n",
      "Epoch 91/200\n",
      "45/45 [==============================] - 0s 10ms/step - loss: 0.3673 - sparse_categorical_accuracy: 0.8434 - val_loss: 0.4526 - val_sparse_categorical_accuracy: 0.8017\n",
      "Epoch 92/200\n",
      "45/45 [==============================] - 0s 10ms/step - loss: 0.3722 - sparse_categorical_accuracy: 0.8406 - val_loss: 0.4505 - val_sparse_categorical_accuracy: 0.7947\n",
      "Epoch 93/200\n",
      "45/45 [==============================] - 0s 10ms/step - loss: 0.3787 - sparse_categorical_accuracy: 0.8458 - val_loss: 0.4492 - val_sparse_categorical_accuracy: 0.7961\n",
      "Epoch 94/200\n",
      "45/45 [==============================] - 0s 10ms/step - loss: 0.3778 - sparse_categorical_accuracy: 0.8358 - val_loss: 0.4499 - val_sparse_categorical_accuracy: 0.7961\n",
      "Epoch 95/200\n",
      "45/45 [==============================] - 0s 10ms/step - loss: 0.3657 - sparse_categorical_accuracy: 0.8438 - val_loss: 0.4476 - val_sparse_categorical_accuracy: 0.7933\n",
      "Epoch 96/200\n",
      "45/45 [==============================] - 0s 10ms/step - loss: 0.3741 - sparse_categorical_accuracy: 0.8358 - val_loss: 0.4444 - val_sparse_categorical_accuracy: 0.7947\n",
      "Epoch 97/200\n",
      "45/45 [==============================] - 0s 10ms/step - loss: 0.3669 - sparse_categorical_accuracy: 0.8486 - val_loss: 0.4439 - val_sparse_categorical_accuracy: 0.8017\n",
      "Epoch 98/200\n",
      "45/45 [==============================] - 0s 10ms/step - loss: 0.3627 - sparse_categorical_accuracy: 0.8455 - val_loss: 0.4450 - val_sparse_categorical_accuracy: 0.7961\n",
      "Epoch 99/200\n",
      "45/45 [==============================] - 0s 10ms/step - loss: 0.3704 - sparse_categorical_accuracy: 0.8313 - val_loss: 0.4435 - val_sparse_categorical_accuracy: 0.8017\n",
      "Epoch 100/200\n",
      "45/45 [==============================] - 0s 10ms/step - loss: 0.3659 - sparse_categorical_accuracy: 0.8385 - val_loss: 0.4440 - val_sparse_categorical_accuracy: 0.8031\n",
      "Epoch 101/200\n",
      "45/45 [==============================] - 0s 10ms/step - loss: 0.3603 - sparse_categorical_accuracy: 0.8521 - val_loss: 0.4421 - val_sparse_categorical_accuracy: 0.8017\n",
      "Epoch 102/200\n",
      "45/45 [==============================] - 0s 10ms/step - loss: 0.3530 - sparse_categorical_accuracy: 0.8510 - val_loss: 0.4400 - val_sparse_categorical_accuracy: 0.8017\n",
      "Epoch 103/200\n",
      "45/45 [==============================] - 0s 10ms/step - loss: 0.3596 - sparse_categorical_accuracy: 0.8483 - val_loss: 0.4390 - val_sparse_categorical_accuracy: 0.8017\n",
      "Epoch 104/200\n",
      "45/45 [==============================] - 0s 10ms/step - loss: 0.3538 - sparse_categorical_accuracy: 0.8479 - val_loss: 0.4393 - val_sparse_categorical_accuracy: 0.8003\n",
      "Epoch 105/200\n",
      "45/45 [==============================] - 0s 10ms/step - loss: 0.3587 - sparse_categorical_accuracy: 0.8458 - val_loss: 0.4382 - val_sparse_categorical_accuracy: 0.8100\n",
      "Epoch 106/200\n",
      "45/45 [==============================] - 0s 10ms/step - loss: 0.3561 - sparse_categorical_accuracy: 0.8503 - val_loss: 0.4361 - val_sparse_categorical_accuracy: 0.8044\n",
      "Epoch 107/200\n",
      "45/45 [==============================] - 0s 10ms/step - loss: 0.3572 - sparse_categorical_accuracy: 0.8486 - val_loss: 0.4366 - val_sparse_categorical_accuracy: 0.8017\n",
      "Epoch 108/200\n",
      "45/45 [==============================] - 0s 10ms/step - loss: 0.3503 - sparse_categorical_accuracy: 0.8514 - val_loss: 0.4377 - val_sparse_categorical_accuracy: 0.8058\n",
      "Epoch 109/200\n",
      "45/45 [==============================] - 0s 10ms/step - loss: 0.3439 - sparse_categorical_accuracy: 0.8569 - val_loss: 0.4361 - val_sparse_categorical_accuracy: 0.8044\n",
      "Epoch 110/200\n",
      "45/45 [==============================] - 0s 10ms/step - loss: 0.3468 - sparse_categorical_accuracy: 0.8549 - val_loss: 0.4364 - val_sparse_categorical_accuracy: 0.8058\n",
      "Epoch 111/200\n",
      "45/45 [==============================] - 0s 10ms/step - loss: 0.3534 - sparse_categorical_accuracy: 0.8451 - val_loss: 0.4355 - val_sparse_categorical_accuracy: 0.8128\n",
      "Epoch 112/200\n",
      "45/45 [==============================] - 0s 10ms/step - loss: 0.3443 - sparse_categorical_accuracy: 0.8597 - val_loss: 0.4335 - val_sparse_categorical_accuracy: 0.8058\n",
      "Epoch 113/200\n",
      "45/45 [==============================] - 0s 10ms/step - loss: 0.3424 - sparse_categorical_accuracy: 0.8583 - val_loss: 0.4334 - val_sparse_categorical_accuracy: 0.8100\n",
      "Epoch 114/200\n",
      "45/45 [==============================] - 0s 10ms/step - loss: 0.3476 - sparse_categorical_accuracy: 0.8552 - val_loss: 0.4320 - val_sparse_categorical_accuracy: 0.8044\n",
      "Epoch 115/200\n",
      "45/45 [==============================] - 0s 10ms/step - loss: 0.3345 - sparse_categorical_accuracy: 0.8632 - val_loss: 0.4285 - val_sparse_categorical_accuracy: 0.8058\n",
      "Epoch 116/200\n",
      "45/45 [==============================] - 0s 10ms/step - loss: 0.3447 - sparse_categorical_accuracy: 0.8549 - val_loss: 0.4285 - val_sparse_categorical_accuracy: 0.8086\n",
      "Epoch 117/200\n",
      "45/45 [==============================] - 0s 10ms/step - loss: 0.3357 - sparse_categorical_accuracy: 0.8580 - val_loss: 0.4273 - val_sparse_categorical_accuracy: 0.8058\n",
      "Epoch 118/200\n",
      "45/45 [==============================] - 0s 10ms/step - loss: 0.3445 - sparse_categorical_accuracy: 0.8590 - val_loss: 0.4265 - val_sparse_categorical_accuracy: 0.8072\n",
      "Epoch 119/200\n",
      "45/45 [==============================] - 0s 10ms/step - loss: 0.3319 - sparse_categorical_accuracy: 0.8590 - val_loss: 0.4261 - val_sparse_categorical_accuracy: 0.8114\n",
      "Epoch 120/200\n",
      "45/45 [==============================] - 0s 10ms/step - loss: 0.3322 - sparse_categorical_accuracy: 0.8608 - val_loss: 0.4266 - val_sparse_categorical_accuracy: 0.8044\n",
      "Epoch 121/200\n",
      "45/45 [==============================] - 0s 10ms/step - loss: 0.3418 - sparse_categorical_accuracy: 0.8510 - val_loss: 0.4268 - val_sparse_categorical_accuracy: 0.8072\n",
      "Epoch 122/200\n",
      "45/45 [==============================] - 0s 10ms/step - loss: 0.3311 - sparse_categorical_accuracy: 0.8611 - val_loss: 0.4287 - val_sparse_categorical_accuracy: 0.8100\n",
      "Epoch 123/200\n",
      "45/45 [==============================] - 0s 10ms/step - loss: 0.3285 - sparse_categorical_accuracy: 0.8604 - val_loss: 0.4265 - val_sparse_categorical_accuracy: 0.8141\n",
      "Epoch 124/200\n",
      "45/45 [==============================] - 0s 10ms/step - loss: 0.3366 - sparse_categorical_accuracy: 0.8587 - val_loss: 0.4261 - val_sparse_categorical_accuracy: 0.8058\n",
      "Epoch 125/200\n",
      "45/45 [==============================] - 0s 10ms/step - loss: 0.3327 - sparse_categorical_accuracy: 0.8573 - val_loss: 0.4232 - val_sparse_categorical_accuracy: 0.8031\n",
      "Epoch 126/200\n",
      "45/45 [==============================] - 0s 10ms/step - loss: 0.3411 - sparse_categorical_accuracy: 0.8559 - val_loss: 0.4242 - val_sparse_categorical_accuracy: 0.8044\n",
      "Epoch 127/200\n",
      "45/45 [==============================] - 0s 10ms/step - loss: 0.3304 - sparse_categorical_accuracy: 0.8531 - val_loss: 0.4237 - val_sparse_categorical_accuracy: 0.8044\n",
      "Epoch 128/200\n",
      "45/45 [==============================] - 0s 10ms/step - loss: 0.3364 - sparse_categorical_accuracy: 0.8618 - val_loss: 0.4238 - val_sparse_categorical_accuracy: 0.8058\n",
      "Epoch 129/200\n",
      "45/45 [==============================] - 0s 10ms/step - loss: 0.3291 - sparse_categorical_accuracy: 0.8642 - val_loss: 0.4232 - val_sparse_categorical_accuracy: 0.8100\n",
      "Epoch 130/200\n",
      "45/45 [==============================] - 0s 10ms/step - loss: 0.3294 - sparse_categorical_accuracy: 0.8653 - val_loss: 0.4232 - val_sparse_categorical_accuracy: 0.8114\n",
      "Epoch 131/200\n",
      "45/45 [==============================] - 0s 10ms/step - loss: 0.3262 - sparse_categorical_accuracy: 0.8622 - val_loss: 0.4246 - val_sparse_categorical_accuracy: 0.8100\n",
      "Epoch 132/200\n",
      "45/45 [==============================] - 0s 10ms/step - loss: 0.3382 - sparse_categorical_accuracy: 0.8573 - val_loss: 0.4241 - val_sparse_categorical_accuracy: 0.8100\n",
      "Epoch 133/200\n",
      "45/45 [==============================] - 0s 10ms/step - loss: 0.3246 - sparse_categorical_accuracy: 0.8646 - val_loss: 0.4225 - val_sparse_categorical_accuracy: 0.8100\n",
      "Epoch 134/200\n",
      "45/45 [==============================] - 0s 10ms/step - loss: 0.3229 - sparse_categorical_accuracy: 0.8715 - val_loss: 0.4196 - val_sparse_categorical_accuracy: 0.8058\n",
      "Epoch 135/200\n",
      "45/45 [==============================] - 0s 10ms/step - loss: 0.3299 - sparse_categorical_accuracy: 0.8538 - val_loss: 0.4222 - val_sparse_categorical_accuracy: 0.8031\n",
      "Epoch 136/200\n",
      "45/45 [==============================] - 0s 10ms/step - loss: 0.3226 - sparse_categorical_accuracy: 0.8628 - val_loss: 0.4211 - val_sparse_categorical_accuracy: 0.8044\n",
      "Epoch 137/200\n",
      "45/45 [==============================] - 0s 10ms/step - loss: 0.3308 - sparse_categorical_accuracy: 0.8549 - val_loss: 0.4211 - val_sparse_categorical_accuracy: 0.8031\n",
      "Epoch 138/200\n",
      "45/45 [==============================] - 0s 10ms/step - loss: 0.3166 - sparse_categorical_accuracy: 0.8663 - val_loss: 0.4192 - val_sparse_categorical_accuracy: 0.8058\n",
      "Epoch 139/200\n",
      "45/45 [==============================] - 0s 10ms/step - loss: 0.3300 - sparse_categorical_accuracy: 0.8687 - val_loss: 0.4200 - val_sparse_categorical_accuracy: 0.8044\n",
      "Epoch 140/200\n",
      "45/45 [==============================] - 0s 10ms/step - loss: 0.3233 - sparse_categorical_accuracy: 0.8705 - val_loss: 0.4204 - val_sparse_categorical_accuracy: 0.8044\n",
      "Epoch 141/200\n",
      "45/45 [==============================] - 0s 9ms/step - loss: 0.3184 - sparse_categorical_accuracy: 0.8715 - val_loss: 0.4202 - val_sparse_categorical_accuracy: 0.8031\n",
      "Epoch 142/200\n",
      "45/45 [==============================] - 0s 10ms/step - loss: 0.3153 - sparse_categorical_accuracy: 0.8649 - val_loss: 0.4188 - val_sparse_categorical_accuracy: 0.8017\n",
      "Epoch 143/200\n",
      "45/45 [==============================] - 0s 10ms/step - loss: 0.3155 - sparse_categorical_accuracy: 0.8684 - val_loss: 0.4165 - val_sparse_categorical_accuracy: 0.8031\n",
      "Epoch 144/200\n",
      "45/45 [==============================] - 0s 10ms/step - loss: 0.3127 - sparse_categorical_accuracy: 0.8771 - val_loss: 0.4147 - val_sparse_categorical_accuracy: 0.8044\n",
      "Epoch 145/200\n",
      "45/45 [==============================] - 0s 10ms/step - loss: 0.3186 - sparse_categorical_accuracy: 0.8635 - val_loss: 0.4151 - val_sparse_categorical_accuracy: 0.7975\n",
      "Epoch 146/200\n",
      "45/45 [==============================] - 0s 10ms/step - loss: 0.3174 - sparse_categorical_accuracy: 0.8687 - val_loss: 0.4134 - val_sparse_categorical_accuracy: 0.8017\n",
      "Epoch 147/200\n",
      "45/45 [==============================] - 0s 10ms/step - loss: 0.3180 - sparse_categorical_accuracy: 0.8632 - val_loss: 0.4135 - val_sparse_categorical_accuracy: 0.8031\n",
      "Epoch 148/200\n",
      "45/45 [==============================] - 0s 10ms/step - loss: 0.3089 - sparse_categorical_accuracy: 0.8687 - val_loss: 0.4126 - val_sparse_categorical_accuracy: 0.8017\n",
      "Epoch 149/200\n",
      "45/45 [==============================] - 0s 10ms/step - loss: 0.3110 - sparse_categorical_accuracy: 0.8719 - val_loss: 0.4140 - val_sparse_categorical_accuracy: 0.8072\n",
      "Epoch 150/200\n",
      "45/45 [==============================] - 0s 10ms/step - loss: 0.3156 - sparse_categorical_accuracy: 0.8681 - val_loss: 0.4133 - val_sparse_categorical_accuracy: 0.8072\n",
      "Epoch 151/200\n",
      "45/45 [==============================] - 0s 10ms/step - loss: 0.3111 - sparse_categorical_accuracy: 0.8674 - val_loss: 0.4117 - val_sparse_categorical_accuracy: 0.8072\n",
      "Epoch 152/200\n",
      "45/45 [==============================] - 0s 10ms/step - loss: 0.3058 - sparse_categorical_accuracy: 0.8667 - val_loss: 0.4123 - val_sparse_categorical_accuracy: 0.8058\n",
      "Epoch 153/200\n",
      "45/45 [==============================] - 0s 10ms/step - loss: 0.2933 - sparse_categorical_accuracy: 0.8788 - val_loss: 0.4092 - val_sparse_categorical_accuracy: 0.8072\n",
      "Epoch 154/200\n",
      "45/45 [==============================] - 0s 10ms/step - loss: 0.3032 - sparse_categorical_accuracy: 0.8764 - val_loss: 0.4108 - val_sparse_categorical_accuracy: 0.8058\n",
      "Epoch 155/200\n",
      "45/45 [==============================] - 0s 10ms/step - loss: 0.3107 - sparse_categorical_accuracy: 0.8670 - val_loss: 0.4081 - val_sparse_categorical_accuracy: 0.8141\n",
      "Epoch 156/200\n",
      "45/45 [==============================] - 0s 10ms/step - loss: 0.3003 - sparse_categorical_accuracy: 0.8740 - val_loss: 0.4069 - val_sparse_categorical_accuracy: 0.8072\n",
      "Epoch 157/200\n",
      "45/45 [==============================] - 0s 10ms/step - loss: 0.3129 - sparse_categorical_accuracy: 0.8632 - val_loss: 0.4080 - val_sparse_categorical_accuracy: 0.8141\n",
      "Epoch 158/200\n",
      "45/45 [==============================] - 0s 10ms/step - loss: 0.3006 - sparse_categorical_accuracy: 0.8767 - val_loss: 0.4092 - val_sparse_categorical_accuracy: 0.8100\n",
      "Epoch 159/200\n",
      "45/45 [==============================] - 0s 10ms/step - loss: 0.3043 - sparse_categorical_accuracy: 0.8750 - val_loss: 0.4062 - val_sparse_categorical_accuracy: 0.8086\n",
      "Epoch 160/200\n",
      "45/45 [==============================] - 0s 10ms/step - loss: 0.3044 - sparse_categorical_accuracy: 0.8687 - val_loss: 0.4044 - val_sparse_categorical_accuracy: 0.8114\n",
      "Epoch 161/200\n",
      "45/45 [==============================] - 0s 10ms/step - loss: 0.3169 - sparse_categorical_accuracy: 0.8597 - val_loss: 0.4068 - val_sparse_categorical_accuracy: 0.8114\n",
      "Epoch 162/200\n",
      "45/45 [==============================] - 0s 10ms/step - loss: 0.3021 - sparse_categorical_accuracy: 0.8726 - val_loss: 0.4056 - val_sparse_categorical_accuracy: 0.8072\n",
      "Epoch 163/200\n",
      "45/45 [==============================] - 0s 10ms/step - loss: 0.2972 - sparse_categorical_accuracy: 0.8767 - val_loss: 0.4052 - val_sparse_categorical_accuracy: 0.8100\n",
      "Epoch 164/200\n",
      "45/45 [==============================] - 0s 10ms/step - loss: 0.2960 - sparse_categorical_accuracy: 0.8740 - val_loss: 0.4065 - val_sparse_categorical_accuracy: 0.8086\n",
      "Epoch 165/200\n",
      "45/45 [==============================] - 0s 10ms/step - loss: 0.2913 - sparse_categorical_accuracy: 0.8865 - val_loss: 0.4037 - val_sparse_categorical_accuracy: 0.8114\n",
      "Epoch 166/200\n",
      "45/45 [==============================] - 0s 10ms/step - loss: 0.2942 - sparse_categorical_accuracy: 0.8767 - val_loss: 0.4027 - val_sparse_categorical_accuracy: 0.8128\n",
      "Epoch 167/200\n",
      "45/45 [==============================] - 0s 10ms/step - loss: 0.2914 - sparse_categorical_accuracy: 0.8792 - val_loss: 0.4042 - val_sparse_categorical_accuracy: 0.8114\n",
      "Epoch 168/200\n",
      "45/45 [==============================] - 0s 10ms/step - loss: 0.2923 - sparse_categorical_accuracy: 0.8757 - val_loss: 0.4004 - val_sparse_categorical_accuracy: 0.8086\n",
      "Epoch 169/200\n",
      "45/45 [==============================] - 0s 10ms/step - loss: 0.2876 - sparse_categorical_accuracy: 0.8816 - val_loss: 0.3997 - val_sparse_categorical_accuracy: 0.8155\n",
      "Epoch 170/200\n",
      "45/45 [==============================] - 0s 10ms/step - loss: 0.2872 - sparse_categorical_accuracy: 0.8809 - val_loss: 0.3999 - val_sparse_categorical_accuracy: 0.8114\n",
      "Epoch 171/200\n",
      "45/45 [==============================] - 0s 10ms/step - loss: 0.2867 - sparse_categorical_accuracy: 0.8823 - val_loss: 0.3991 - val_sparse_categorical_accuracy: 0.8100\n",
      "Epoch 172/200\n",
      "45/45 [==============================] - 0s 10ms/step - loss: 0.3024 - sparse_categorical_accuracy: 0.8701 - val_loss: 0.3983 - val_sparse_categorical_accuracy: 0.8086\n",
      "Epoch 173/200\n",
      "45/45 [==============================] - 0s 10ms/step - loss: 0.2937 - sparse_categorical_accuracy: 0.8799 - val_loss: 0.3994 - val_sparse_categorical_accuracy: 0.8058\n",
      "Epoch 174/200\n",
      "45/45 [==============================] - 0s 10ms/step - loss: 0.2995 - sparse_categorical_accuracy: 0.8747 - val_loss: 0.3999 - val_sparse_categorical_accuracy: 0.8072\n",
      "Epoch 175/200\n",
      "45/45 [==============================] - 0s 10ms/step - loss: 0.3009 - sparse_categorical_accuracy: 0.8712 - val_loss: 0.3988 - val_sparse_categorical_accuracy: 0.8155\n",
      "Epoch 176/200\n",
      "45/45 [==============================] - 0s 10ms/step - loss: 0.2967 - sparse_categorical_accuracy: 0.8701 - val_loss: 0.4024 - val_sparse_categorical_accuracy: 0.8072\n",
      "Epoch 177/200\n",
      "45/45 [==============================] - 0s 10ms/step - loss: 0.2960 - sparse_categorical_accuracy: 0.8792 - val_loss: 0.4015 - val_sparse_categorical_accuracy: 0.8072\n",
      "Epoch 178/200\n",
      "45/45 [==============================] - 0s 10ms/step - loss: 0.2903 - sparse_categorical_accuracy: 0.8750 - val_loss: 0.4016 - val_sparse_categorical_accuracy: 0.8086\n",
      "Epoch 179/200\n",
      "45/45 [==============================] - 0s 10ms/step - loss: 0.2904 - sparse_categorical_accuracy: 0.8764 - val_loss: 0.4016 - val_sparse_categorical_accuracy: 0.8114\n",
      "Epoch 180/200\n",
      "45/45 [==============================] - 0s 10ms/step - loss: 0.2967 - sparse_categorical_accuracy: 0.8740 - val_loss: 0.4010 - val_sparse_categorical_accuracy: 0.8072\n",
      "Epoch 181/200\n",
      "45/45 [==============================] - 0s 10ms/step - loss: 0.2861 - sparse_categorical_accuracy: 0.8847 - val_loss: 0.3967 - val_sparse_categorical_accuracy: 0.8155\n",
      "Epoch 182/200\n",
      "45/45 [==============================] - 0s 10ms/step - loss: 0.2798 - sparse_categorical_accuracy: 0.8844 - val_loss: 0.3971 - val_sparse_categorical_accuracy: 0.8100\n",
      "Epoch 183/200\n",
      "45/45 [==============================] - 0s 10ms/step - loss: 0.2825 - sparse_categorical_accuracy: 0.8872 - val_loss: 0.3985 - val_sparse_categorical_accuracy: 0.8100\n",
      "Epoch 184/200\n",
      "45/45 [==============================] - 0s 10ms/step - loss: 0.2923 - sparse_categorical_accuracy: 0.8736 - val_loss: 0.4006 - val_sparse_categorical_accuracy: 0.8114\n",
      "Epoch 185/200\n",
      "45/45 [==============================] - 0s 10ms/step - loss: 0.2945 - sparse_categorical_accuracy: 0.8764 - val_loss: 0.4002 - val_sparse_categorical_accuracy: 0.8058\n",
      "Epoch 186/200\n",
      "45/45 [==============================] - 0s 10ms/step - loss: 0.2904 - sparse_categorical_accuracy: 0.8792 - val_loss: 0.3983 - val_sparse_categorical_accuracy: 0.8044\n",
      "Epoch 187/200\n",
      "45/45 [==============================] - 0s 10ms/step - loss: 0.2878 - sparse_categorical_accuracy: 0.8788 - val_loss: 0.4008 - val_sparse_categorical_accuracy: 0.8058\n",
      "Epoch 188/200\n",
      "45/45 [==============================] - 0s 10ms/step - loss: 0.2811 - sparse_categorical_accuracy: 0.8861 - val_loss: 0.4013 - val_sparse_categorical_accuracy: 0.8044\n",
      "Epoch 189/200\n",
      "45/45 [==============================] - 0s 10ms/step - loss: 0.2790 - sparse_categorical_accuracy: 0.8875 - val_loss: 0.4003 - val_sparse_categorical_accuracy: 0.8086\n",
      "Epoch 190/200\n",
      "45/45 [==============================] - 0s 10ms/step - loss: 0.2773 - sparse_categorical_accuracy: 0.8833 - val_loss: 0.3995 - val_sparse_categorical_accuracy: 0.8017\n",
      "Epoch 191/200\n",
      "45/45 [==============================] - 0s 10ms/step - loss: 0.2796 - sparse_categorical_accuracy: 0.8872 - val_loss: 0.3988 - val_sparse_categorical_accuracy: 0.8058\n",
      "42/42 [==============================] - 0s 4ms/step - loss: 0.3966 - sparse_categorical_accuracy: 0.8356\n"
     ]
    },
    {
     "data": {
      "text/plain": [
       "[0.396648108959198, 0.835606038570404]"
      ]
     },
     "execution_count": 23,
     "metadata": {},
     "output_type": "execute_result"
    }
   ],
   "source": [
    "training = model.fit(\n",
    "    x_train,\n",
    "    y_train,\n",
    "    validation_split=0.2,\n",
    "    epochs=200,\n",
    "    batch_size=64,\n",
    "    callbacks=callbacks,\n",
    ")\n",
    "\n",
    "\n",
    "model.evaluate(x_test, y_test, verbose=1)"
   ]
  },
  {
   "cell_type": "markdown",
   "metadata": {
    "id": "jnitA2KZ0sQc"
   },
   "source": [
    "\n",
    "And that is for a model with less than 100k parameters. \n",
    "Of course, parameter count and accuracy could be improved by a hyperparameter search and a more sophisticated learning rate schedule, or a different optimizer."
   ]
  },
  {
   "cell_type": "markdown",
   "metadata": {},
   "source": [
    "training accuracy of ~0.88, validation accuracy of ~83 and a testing accuracy of ~85,"
   ]
  },
  {
   "cell_type": "markdown",
   "metadata": {},
   "source": [
    "#### plot training and validation loss "
   ]
  },
  {
   "cell_type": "code",
   "execution_count": 24,
   "metadata": {
    "colab": {
     "base_uri": "https://localhost:8080/",
     "height": 433
    },
    "id": "bSDDioeA1M8L",
    "outputId": "0f5df3f9-c04d-4e19-e6ae-2f907e112ec7"
   },
   "outputs": [
    {
     "data": {
      "image/png": "[encoded data removed]",
      "text/plain": [
       "<Figure size 640x480 with 1 Axes>"
      ]
     },
     "metadata": {},
     "output_type": "display_data"
    }
   ],
   "source": [
    "plt.plot(training.history[\"loss\"], label=\"Training Loss\")\n",
    "plt.plot(training.history[\"val_loss\"], label=\"Validation Loss\")\n",
    "plt.legend()\n",
    "plt.show()"
   ]
  },
  {
   "cell_type": "code",
   "execution_count": 26,
   "metadata": {
    "id": "MowF5XrgiHF_"
   },
   "outputs": [
    {
     "name": "stdout",
     "output_type": "stream",
     "text": [
      "42/42 - 0s - loss: 0.3966 - sparse_categorical_accuracy: 0.8356 - 164ms/epoch - 4ms/step\n"
     ]
    }
   ],
   "source": [
    "test_scores = model.evaluate(x_test, y_test, verbose = 2)"
   ]
  },
  {
   "cell_type": "code",
   "execution_count": 31,
   "metadata": {},
   "outputs": [
    {
     "data": {
      "text/plain": [
       "[0.396648108959198, 0.835606038570404]"
      ]
     },
     "execution_count": 31,
     "metadata": {},
     "output_type": "execute_result"
    }
   ],
   "source": [
    "test_scores # loss, accuracy"
   ]
  },
  {
   "cell_type": "code",
   "execution_count": 29,
   "metadata": {
    "id": "MowF5XrgiHF_"
   },
   "outputs": [
    {
     "name": "stdout",
     "output_type": "stream",
     "text": [
      "Test loss: 0.396648108959198\n",
      "Accuracy: 83.5606038570404 %\n"
     ]
    }
   ],
   "source": [
    "print('Test loss: {}'.format(test_scores[0]))\n",
    "print('Accuracy: {} %'.format(test_scores[1]*100))"
   ]
  },
  {
   "cell_type": "code",
   "execution_count": 49,
   "metadata": {},
   "outputs": [
    {
     "name": "stdout",
     "output_type": "stream",
     "text": [
      "42/42 [==============================] - 0s 3ms/step\n"
     ]
    },
    {
     "data": {
      "text/plain": [
       "array([[0.9109155 , 0.08908449],\n",
       "       [0.96257246, 0.03742755],\n",
       "       [0.22597057, 0.7740295 ],\n",
       "       ...,\n",
       "       [0.22738615, 0.7726139 ],\n",
       "       [0.64153045, 0.35846955],\n",
       "       [0.61636746, 0.3836325 ]], dtype=float32)"
      ]
     },
     "execution_count": 49,
     "metadata": {},
     "output_type": "execute_result"
    }
   ],
   "source": [
    "model.predict(x_test)"
   ]
  },
  {
   "cell_type": "code",
   "execution_count": null,
   "metadata": {
    "id": "xwDgF38j1ZSp"
   },
   "outputs": [],
   "source": []
  }
 ],
 "metadata": {
  "accelerator": "GPU",
  "colab": {
   "provenance": []
  },
  "gpuClass": "standard",
  "kernelspec": {
   "display_name": "Python 3",
   "language": "python",
   "name": "python3"
  },
  "language_info": {
   "codemirror_mode": {
    "name": "ipython",
    "version": 3
   },
   "file_extension": ".py",
   "mimetype": "text/x-python",
   "name": "python",
   "nbconvert_exporter": "python",
   "pygments_lexer": "ipython3",
   "version": "3.8.10"
  }
 },
 "nbformat": 4,
 "nbformat_minor": 1
}
