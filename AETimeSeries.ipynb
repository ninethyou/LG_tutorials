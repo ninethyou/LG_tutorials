{
  "cells": [
    {
      "cell_type": "markdown",
      "metadata": {
        "id": "rv8u5fRhBXgs"
      },
      "source": [
        "Partially from https://towardsdatascience.com/step-by-step-understanding-lstm-autoencoder-layers-ffab055b6352"
      ]
    },
    {
      "cell_type": "markdown",
      "metadata": {
        "id": "cETvJgRlFpwi"
      },
      "source": [
        "Learning LSTM Autoencoder and LSTM Network on a simple Multivariate Timeseries Toy example"
      ]
    },
    {
      "cell_type": "code",
      "execution_count": 1,
      "metadata": {
        "id": "EvCtfDoeFl2F"
      },
      "outputs": [],
      "source": [
        "# lstm autoencoder to recreate a timeseries\n",
        "import numpy as np\n",
        "from keras.models import Sequential\n",
        "from keras.layers import LSTM\n",
        "from keras.layers import Dense\n",
        "from keras.layers import RepeatVector\n",
        "from keras.layers import TimeDistributed\n",
        "import pandas as pd"
      ]
    },
    {
      "cell_type": "markdown",
      "metadata": {
        "id": "8PWy9jEYBXgv"
      },
      "source": [
        "#### Prepocessing times series data"
      ]
    },
    {
      "cell_type": "code",
      "execution_count": 2,
      "metadata": {
        "id": "GMaW1nAxFmh-"
      },
      "outputs": [],
      "source": [
        "'''\n",
        "A UDF to convert input data into 3-D\n",
        "array as required for LSTM network.\n",
        "'''\n",
        "\n",
        "def temporalize(X, y, lookback):\n",
        "    output_X = []\n",
        "    output_y = []\n",
        "    for i in range(len(X)-lookback-1):\n",
        "        t = []\n",
        "        for j in range(1,lookback+1):\n",
        "            # Gather past records upto the lookback period\n",
        "            t.append( X[[(i+j+1)], :])\n",
        "        output_X.append(t)\n",
        "        output_y.append(y[i+lookback+1])\n",
        "    return output_X, output_y"
      ]
    },
    {
      "cell_type": "markdown",
      "metadata": {
        "id": "Sdl6v6e2BXgv"
      },
      "source": [
        "#### make toy example"
      ]
    },
    {
      "cell_type": "code",
      "execution_count": 6,
      "metadata": {
        "colab": {
          "base_uri": "https://localhost:8080/"
        },
        "id": "2_XpvDQJFoK8",
        "outputId": "f64c2eef-7563-4b0f-8c3d-5b592886acd9"
      },
      "outputs": [
        {
          "output_type": "execute_result",
          "data": {
            "text/plain": [
              "array([[0.1  , 0.001],\n",
              "       [0.2  , 0.008],\n",
              "       [0.3  , 0.027],\n",
              "       [0.4  , 0.064],\n",
              "       [0.5  , 0.125],\n",
              "       [0.6  , 0.216],\n",
              "       [0.7  , 0.343],\n",
              "       [0.8  , 0.512],\n",
              "       [0.9  , 0.729]])"
            ]
          },
          "metadata": {},
          "execution_count": 6
        }
      ],
      "source": [
        "# define input timeseries\n",
        "timeseries = np.array([[0.1, 0.2, 0.3, 0.4, 0.5, 0.6, 0.7, 0.8, 0.9],\n",
        "                       [0.1**3, 0.2**3, 0.3**3, 0.4**3, 0.5**3, 0.6**3, 0.7**3, 0.8**3, 0.9**3]]).transpose()\n",
        "\n",
        "timesteps = timeseries.shape[0]\n",
        "n_features = timeseries.shape[1]\n",
        "timeseries"
      ]
    },
    {
      "cell_type": "code",
      "source": [
        "# print(timeseries[ 3 , : ])\n",
        "# print( )"
      ],
      "metadata": {
        "colab": {
          "base_uri": "https://localhost:8080/"
        },
        "id": "afGjb-q_B8lq",
        "outputId": "bfe5f6ef-a96f-4cf2-ea0a-e2e0601bdd20"
      },
      "execution_count": 18,
      "outputs": [
        {
          "output_type": "stream",
          "name": "stdout",
          "text": [
            "[0.4   0.064]\n",
            "[[0.4   0.064]]\n"
          ]
        }
      ]
    },
    {
      "cell_type": "code",
      "execution_count": 23,
      "metadata": {
        "colab": {
          "base_uri": "https://localhost:8080/"
        },
        "id": "1iPAaUW4FymM",
        "outputId": "7a7c0f97-8c85-4176-de69-7a0cb9de2e8e"
      },
      "outputs": [
        {
          "output_type": "execute_result",
          "data": {
            "text/plain": [
              "array([[[0.3  , 0.027],\n",
              "        [0.4  , 0.064],\n",
              "        [0.5  , 0.125]],\n",
              "\n",
              "       [[0.4  , 0.064],\n",
              "        [0.5  , 0.125],\n",
              "        [0.6  , 0.216]],\n",
              "\n",
              "       [[0.5  , 0.125],\n",
              "        [0.6  , 0.216],\n",
              "        [0.7  , 0.343]],\n",
              "\n",
              "       [[0.6  , 0.216],\n",
              "        [0.7  , 0.343],\n",
              "        [0.8  , 0.512]],\n",
              "\n",
              "       [[0.7  , 0.343],\n",
              "        [0.8  , 0.512],\n",
              "        [0.9  , 0.729]]])"
            ]
          },
          "metadata": {},
          "execution_count": 23
        }
      ],
      "source": [
        "timesteps = 3\n",
        "X, y = temporalize(X = timeseries, y = np.zeros(len(timeseries)), lookback = timesteps)\n",
        "\n",
        "n_features = 2\n",
        "X = np.array(X)\n",
        "X = X.reshape(X.shape[0], timesteps, n_features)\n",
        "\n",
        "X # Input data converted into 3D array of (n_samples, timesteps, n_features) "
      ]
    },
    {
      "cell_type": "markdown",
      "metadata": {
        "id": "mGM3U4COBXgw"
      },
      "source": [
        "![lstm](./figure/LSTM.png)"
      ]
    },
    {
      "cell_type": "markdown",
      "metadata": {
        "id": "Z5dTZol-BXgx"
      },
      "source": [
        "![lstm](./figure/LSTM2.png)"
      ]
    },
    {
      "cell_type": "code",
      "execution_count": 25,
      "metadata": {
        "colab": {
          "base_uri": "https://localhost:8080/"
        },
        "id": "3meyAU8qF3Bs",
        "outputId": "40118f37-3d00-47fc-8e87-f6176f04d2cb"
      },
      "outputs": [
        {
          "output_type": "stream",
          "name": "stdout",
          "text": [
            "Model: \"sequential_1\"\n",
            "_________________________________________________________________\n",
            " Layer (type)                Output Shape              Param #   \n",
            "=================================================================\n",
            " lstm_4 (LSTM)               (None, 3, 128)            67072     \n",
            "                                                                 \n",
            " lstm_5 (LSTM)               (None, 64)                49408     \n",
            "                                                                 \n",
            " repeat_vector_1 (RepeatVect  (None, 3, 64)            0         \n",
            " or)                                                             \n",
            "                                                                 \n",
            " lstm_6 (LSTM)               (None, 3, 64)             33024     \n",
            "                                                                 \n",
            " lstm_7 (LSTM)               (None, 3, 128)            98816     \n",
            "                                                                 \n",
            " time_distributed_1 (TimeDis  (None, 3, 2)             258       \n",
            " tributed)                                                       \n",
            "                                                                 \n",
            "=================================================================\n",
            "Total params: 248,578\n",
            "Trainable params: 248,578\n",
            "Non-trainable params: 0\n",
            "_________________________________________________________________\n"
          ]
        }
      ],
      "source": [
        "# define model\n",
        "model = Sequential()\n",
        "model.add(LSTM(128, activation='relu', input_shape=(timesteps,n_features), return_sequences=True))\n",
        "model.add(LSTM(64, activation='relu', return_sequences=False))\n",
        "model.add(RepeatVector(timesteps))\n",
        "model.add(LSTM(64, activation='relu', return_sequences=True))\n",
        "model.add(LSTM(128, activation='relu', return_sequences=True))\n",
        "model.add(TimeDistributed(Dense(n_features)))\n",
        "model.compile(optimizer='adam', loss='mse')\n",
        "model.summary()"
      ]
    },
    {
      "cell_type": "code",
      "execution_count": 26,
      "metadata": {
        "colab": {
          "base_uri": "https://localhost:8080/"
        },
        "id": "sx0B3DNCF6MU",
        "outputId": "a8f4926d-b971-4625-a843-f8e8216d8283"
      },
      "outputs": [
        {
          "output_type": "stream",
          "name": "stdout",
          "text": [
            "---Predicted---\n",
            "[[[0.314 0.036]\n",
            "  [0.412 0.065]\n",
            "  [0.494 0.119]]\n",
            "\n",
            " [[0.387 0.065]\n",
            "  [0.502 0.127]\n",
            "  [0.595 0.212]]\n",
            "\n",
            " [[0.493 0.12 ]\n",
            "  [0.601 0.221]\n",
            "  [0.704 0.345]]\n",
            "\n",
            " [[0.604 0.203]\n",
            "  [0.695 0.345]\n",
            "  [0.805 0.513]]\n",
            "\n",
            " [[0.7   0.348]\n",
            "  [0.803 0.509]\n",
            "  [0.9   0.728]]]\n",
            "---Actual---\n",
            "[[[0.3   0.027]\n",
            "  [0.4   0.064]\n",
            "  [0.5   0.125]]\n",
            "\n",
            " [[0.4   0.064]\n",
            "  [0.5   0.125]\n",
            "  [0.6   0.216]]\n",
            "\n",
            " [[0.5   0.125]\n",
            "  [0.6   0.216]\n",
            "  [0.7   0.343]]\n",
            "\n",
            " [[0.6   0.216]\n",
            "  [0.7   0.343]\n",
            "  [0.8   0.512]]\n",
            "\n",
            " [[0.7   0.343]\n",
            "  [0.8   0.512]\n",
            "  [0.9   0.729]]]\n"
          ]
        }
      ],
      "source": [
        "# fit model\n",
        "model.fit(X, X, epochs=300, batch_size=5, verbose=0)\n",
        "# demonstrate reconstruction\n",
        "yhat = model.predict(X, verbose=0)\n",
        "print('---Predicted---')\n",
        "print(np.round(yhat,3))\n",
        "print('---Actual---')\n",
        "print(np.round(X, 3))"
      ]
    },
    {
      "cell_type": "markdown",
      "metadata": {
        "id": "9d6ABET6BXgx"
      },
      "source": [
        "#### Another Model"
      ]
    },
    {
      "cell_type": "markdown",
      "metadata": {
        "id": "ZJZ0L42LBXgy"
      },
      "source": [
        "![LSTM3](./figure/LSTM3.png)"
      ]
    },
    {
      "cell_type": "code",
      "execution_count": 27,
      "metadata": {
        "colab": {
          "base_uri": "https://localhost:8080/"
        },
        "id": "qYeOg__zGDCz",
        "outputId": "db29ff29-b80d-44f9-f828-3f5dffca8978"
      },
      "outputs": [
        {
          "output_type": "stream",
          "name": "stdout",
          "text": [
            "Model: \"sequential_2\"\n",
            "_________________________________________________________________\n",
            " Layer (type)                Output Shape              Param #   \n",
            "=================================================================\n",
            " lstm_8 (LSTM)               (None, 3, 128)            67072     \n",
            "                                                                 \n",
            " lstm_9 (LSTM)               (None, 3, 64)             49408     \n",
            "                                                                 \n",
            " lstm_10 (LSTM)              (None, 3, 64)             33024     \n",
            "                                                                 \n",
            " lstm_11 (LSTM)              (None, 3, 128)            98816     \n",
            "                                                                 \n",
            " time_distributed_2 (TimeDis  (None, 3, 2)             258       \n",
            " tributed)                                                       \n",
            "                                                                 \n",
            "=================================================================\n",
            "Total params: 248,578\n",
            "Trainable params: 248,578\n",
            "Non-trainable params: 0\n",
            "_________________________________________________________________\n"
          ]
        }
      ],
      "source": [
        "# define model\n",
        "model = Sequential()\n",
        "model.add(LSTM(128, activation='relu', input_shape=(timesteps,n_features), return_sequences=True))\n",
        "model.add(LSTM(64, activation='relu', return_sequences=True))\n",
        "model.add(LSTM(64, activation='relu', return_sequences=True))\n",
        "model.add(LSTM(128, activation='relu', return_sequences=True))\n",
        "model.add(TimeDistributed(Dense(n_features)))\n",
        "model.compile(optimizer='adam', loss='mse')\n",
        "\n",
        "from keras.callbacks import ModelCheckpoint, TensorBoard\n",
        "cp = ModelCheckpoint(filepath=\"autoencoder_classifier.h5\",\n",
        "                               save_best_only=True,\n",
        "                               verbose=0)\n",
        "tb = TensorBoard(log_dir='./logs',\n",
        "                histogram_freq=0,\n",
        "                write_graph=True,\n",
        "                write_images=True)\n",
        "model.summary()"
      ]
    },
    {
      "cell_type": "code",
      "execution_count": null,
      "metadata": {
        "id": "zqZ2DtYKGHhW"
      },
      "outputs": [],
      "source": [
        "# fit model\n",
        "history = model.fit(X, X, epochs=300, batch_size=5, verbose=1,callbacks=[cp, tb]).history"
      ]
    },
    {
      "cell_type": "code",
      "execution_count": 29,
      "metadata": {
        "id": "5brPZHYtJuoz",
        "colab": {
          "base_uri": "https://localhost:8080/"
        },
        "outputId": "c93ca337-06d4-4bfc-a173-e5d896251e06"
      },
      "outputs": [
        {
          "output_type": "stream",
          "name": "stdout",
          "text": [
            "---Predicted---\n",
            "[[[0.34  0.066]\n",
            "  [0.401 0.047]\n",
            "  [0.502 0.125]]\n",
            "\n",
            " [[0.398 0.094]\n",
            "  [0.497 0.115]\n",
            "  [0.603 0.226]]\n",
            "\n",
            " [[0.475 0.141]\n",
            "  [0.594 0.206]\n",
            "  [0.699 0.349]]\n",
            "\n",
            " [[0.585 0.214]\n",
            "  [0.705 0.341]\n",
            "  [0.796 0.514]]\n",
            "\n",
            " [[0.715 0.307]\n",
            "  [0.8   0.522]\n",
            "  [0.906 0.728]]]\n",
            "---Actual---\n",
            "[[[0.3   0.027]\n",
            "  [0.4   0.064]\n",
            "  [0.5   0.125]]\n",
            "\n",
            " [[0.4   0.064]\n",
            "  [0.5   0.125]\n",
            "  [0.6   0.216]]\n",
            "\n",
            " [[0.5   0.125]\n",
            "  [0.6   0.216]\n",
            "  [0.7   0.343]]\n",
            "\n",
            " [[0.6   0.216]\n",
            "  [0.7   0.343]\n",
            "  [0.8   0.512]]\n",
            "\n",
            " [[0.7   0.343]\n",
            "  [0.8   0.512]\n",
            "  [0.9   0.729]]]\n"
          ]
        }
      ],
      "source": [
        "# demonstrate reconstruction\n",
        "yhat = model.predict(X, verbose=0)\n",
        "print('---Predicted---')\n",
        "print(np.round(yhat,3))\n",
        "print('---Actual---')\n",
        "print(np.round(X, 3))"
      ]
    },
    {
      "cell_type": "code",
      "execution_count": 30,
      "metadata": {
        "colab": {
          "base_uri": "https://localhost:8080/",
          "height": 472
        },
        "id": "1icJTD-mGJPz",
        "outputId": "131b646c-0352-468d-f74c-76d55edb572a"
      },
      "outputs": [
        {
          "output_type": "display_data",
          "data": {
            "text/plain": [
              "<Figure size 640x480 with 1 Axes>"
            ],
            "image/png": "[encoded data removed]"
          },
          "metadata": {}
        }
      ],
      "source": [
        "import matplotlib.pyplot as plt\n",
        "\n",
        "plt.plot(history['loss'], linewidth=2, label='Train')\n",
        "\n",
        "plt.legend(loc='upper right')\n",
        "plt.title('Model loss')\n",
        "plt.ylabel('Loss')\n",
        "plt.xlabel('Epoch')\n",
        "plt.show()"
      ]
    },
    {
      "cell_type": "markdown",
      "metadata": {
        "id": "0FrF4uaQBXgz"
      },
      "source": [
        "### Finance Data"
      ]
    },
    {
      "cell_type": "code",
      "execution_count": 31,
      "metadata": {
        "id": "8XqOgoOkLDoa"
      },
      "outputs": [],
      "source": [
        "\"\"\"\n",
        "@author: Sreenivas Bhattiprolu\n",
        "Shows errors on Tensorflow 1.4 and Keras 2.0.8\n",
        "Works fine in Tensorflow: 2.2.0\n",
        "    Keras: 2.4.3\n",
        "dataset: https://finance.yahoo.com/quote/GE/history/\n",
        "Also try S&P: https://finance.yahoo.com/quote/%5EGSPC/history?p=%5EGSPC\n",
        "\"\"\"\n",
        "\n",
        "import numpy as np\n",
        "from keras.models import Sequential\n",
        "from keras.layers import LSTM, Input, Dropout\n",
        "from keras.layers import Dense\n",
        "from keras.layers import RepeatVector\n",
        "from keras.layers import TimeDistributed\n",
        "import pandas as pd\n",
        "from matplotlib import pyplot as plt\n",
        "from sklearn.preprocessing import MinMaxScaler, StandardScaler\n",
        "from keras.models import Model\n",
        "import seaborn as sns\n"
      ]
    },
    {
      "cell_type": "code",
      "execution_count": 37,
      "metadata": {
        "id": "ugvqoElNBXgz"
      },
      "outputs": [],
      "source": [
        "dataframe = pd.read_csv('/content/GE.csv')\n",
        "# dataframe."
      ]
    },
    {
      "cell_type": "code",
      "source": [
        "dataframe"
      ],
      "metadata": {
        "colab": {
          "base_uri": "https://localhost:8080/",
          "height": 423
        },
        "id": "1jRtB1VvEOus",
        "outputId": "a37988bb-26bf-404b-c619-37f67ae5e59f"
      },
      "execution_count": 39,
      "outputs": [
        {
          "output_type": "execute_result",
          "data": {
            "text/plain": [
              "             Date       Open        High        Low      Close  Adj Close  \\\n",
              "0      1962-01-02   4.691347    4.769536   4.644433   4.675709   0.785728   \n",
              "1      1962-01-03   4.652252    4.652252   4.613158   4.628796   0.777844   \n",
              "2      1962-01-04   4.628796    4.667890   4.534969   4.574063   0.768646   \n",
              "3      1962-01-05   4.574063    4.581882   4.378590   4.456780   0.748938   \n",
              "4      1962-01-08   4.456780    4.456780   4.316039   4.448961   0.747624   \n",
              "...           ...        ...         ...        ...        ...        ...   \n",
              "15427  2023-04-17  95.620003   96.849998  95.480003  96.769997  96.769997   \n",
              "15428  2023-04-18  97.000000   98.519997  96.860001  98.470001  98.470001   \n",
              "15429  2023-04-19  98.580002   99.309998  98.419998  99.029999  99.029999   \n",
              "15430  2023-04-20  99.300003  100.470001  99.059998  99.760002  99.760002   \n",
              "15431  2023-04-21  99.980003  100.080002  99.129997  99.510002  99.510002   \n",
              "\n",
              "        Volume  \n",
              "0       345317  \n",
              "1       236606  \n",
              "2       294159  \n",
              "3       436442  \n",
              "4       495593  \n",
              "...        ...  \n",
              "15427  6126100  \n",
              "15428  7110800  \n",
              "15429  5617000  \n",
              "15430  6912400  \n",
              "15431  4079400  \n",
              "\n",
              "[15432 rows x 7 columns]"
            ],
            "text/html": [
              "\n",
              "  <div id=\"df-e5a7fe81-0f50-41ec-acc5-21261c58211d\">\n",
              "    <div class=\"colab-df-container\">\n",
              "      <div>\n",
              "<style scoped>\n",
              "    .dataframe tbody tr th:only-of-type {\n",
              "        vertical-align: middle;\n",
              "    }\n",
              "\n",
              "    .dataframe tbody tr th {\n",
              "        vertical-align: top;\n",
              "    }\n",
              "\n",
              "    .dataframe thead th {\n",
              "        text-align: right;\n",
              "    }\n",
              "</style>\n",
              "<table border=\"1\" class=\"dataframe\">\n",
              "  <thead>\n",
              "    <tr style=\"text-align: right;\">\n",
              "      <th></th>\n",
              "      <th>Date</th>\n",
              "      <th>Open</th>\n",
              "      <th>High</th>\n",
              "      <th>Low</th>\n",
              "      <th>Close</th>\n",
              "      <th>Adj Close</th>\n",
              "      <th>Volume</th>\n",
              "    </tr>\n",
              "  </thead>\n",
              "  <tbody>\n",
              "    <tr>\n",
              "      <th>0</th>\n",
              "      <td>1962-01-02</td>\n",
              "      <td>4.691347</td>\n",
              "      <td>4.769536</td>\n",
              "      <td>4.644433</td>\n",
              "      <td>4.675709</td>\n",
              "      <td>0.785728</td>\n",
              "      <td>345317</td>\n",
              "    </tr>\n",
              "    <tr>\n",
              "      <th>1</th>\n",
              "      <td>1962-01-03</td>\n",
              "      <td>4.652252</td>\n",
              "      <td>4.652252</td>\n",
              "      <td>4.613158</td>\n",
              "      <td>4.628796</td>\n",
              "      <td>0.777844</td>\n",
              "      <td>236606</td>\n",
              "    </tr>\n",
              "    <tr>\n",
              "      <th>2</th>\n",
              "      <td>1962-01-04</td>\n",
              "      <td>4.628796</td>\n",
              "      <td>4.667890</td>\n",
              "      <td>4.534969</td>\n",
              "      <td>4.574063</td>\n",
              "      <td>0.768646</td>\n",
              "      <td>294159</td>\n",
              "    </tr>\n",
              "    <tr>\n",
              "      <th>3</th>\n",
              "      <td>1962-01-05</td>\n",
              "      <td>4.574063</td>\n",
              "      <td>4.581882</td>\n",
              "      <td>4.378590</td>\n",
              "      <td>4.456780</td>\n",
              "      <td>0.748938</td>\n",
              "      <td>436442</td>\n",
              "    </tr>\n",
              "    <tr>\n",
              "      <th>4</th>\n",
              "      <td>1962-01-08</td>\n",
              "      <td>4.456780</td>\n",
              "      <td>4.456780</td>\n",
              "      <td>4.316039</td>\n",
              "      <td>4.448961</td>\n",
              "      <td>0.747624</td>\n",
              "      <td>495593</td>\n",
              "    </tr>\n",
              "    <tr>\n",
              "      <th>...</th>\n",
              "      <td>...</td>\n",
              "      <td>...</td>\n",
              "      <td>...</td>\n",
              "      <td>...</td>\n",
              "      <td>...</td>\n",
              "      <td>...</td>\n",
              "      <td>...</td>\n",
              "    </tr>\n",
              "    <tr>\n",
              "      <th>15427</th>\n",
              "      <td>2023-04-17</td>\n",
              "      <td>95.620003</td>\n",
              "      <td>96.849998</td>\n",
              "      <td>95.480003</td>\n",
              "      <td>96.769997</td>\n",
              "      <td>96.769997</td>\n",
              "      <td>6126100</td>\n",
              "    </tr>\n",
              "    <tr>\n",
              "      <th>15428</th>\n",
              "      <td>2023-04-18</td>\n",
              "      <td>97.000000</td>\n",
              "      <td>98.519997</td>\n",
              "      <td>96.860001</td>\n",
              "      <td>98.470001</td>\n",
              "      <td>98.470001</td>\n",
              "      <td>7110800</td>\n",
              "    </tr>\n",
              "    <tr>\n",
              "      <th>15429</th>\n",
              "      <td>2023-04-19</td>\n",
              "      <td>98.580002</td>\n",
              "      <td>99.309998</td>\n",
              "      <td>98.419998</td>\n",
              "      <td>99.029999</td>\n",
              "      <td>99.029999</td>\n",
              "      <td>5617000</td>\n",
              "    </tr>\n",
              "    <tr>\n",
              "      <th>15430</th>\n",
              "      <td>2023-04-20</td>\n",
              "      <td>99.300003</td>\n",
              "      <td>100.470001</td>\n",
              "      <td>99.059998</td>\n",
              "      <td>99.760002</td>\n",
              "      <td>99.760002</td>\n",
              "      <td>6912400</td>\n",
              "    </tr>\n",
              "    <tr>\n",
              "      <th>15431</th>\n",
              "      <td>2023-04-21</td>\n",
              "      <td>99.980003</td>\n",
              "      <td>100.080002</td>\n",
              "      <td>99.129997</td>\n",
              "      <td>99.510002</td>\n",
              "      <td>99.510002</td>\n",
              "      <td>4079400</td>\n",
              "    </tr>\n",
              "  </tbody>\n",
              "</table>\n",
              "<p>15432 rows × 7 columns</p>\n",
              "</div>\n",
              "      <button class=\"colab-df-convert\" onclick=\"convertToInteractive('df-e5a7fe81-0f50-41ec-acc5-21261c58211d')\"\n",
              "              title=\"Convert this dataframe to an interactive table.\"\n",
              "              style=\"display:none;\">\n",
              "        \n",
              "  <svg xmlns=\"http://www.w3.org/2000/svg\" height=\"24px\"viewBox=\"0 0 24 24\"\n",
              "       width=\"24px\">\n",
              "    <path d=\"M0 0h24v24H0V0z\" fill=\"none\"/>\n",
              "    <path d=\"M18.56 5.44l.94 2.06.94-2.06 2.06-.94-2.06-.94-.94-2.06-.94 2.06-2.06.94zm-11 1L8.5 8.5l.94-2.06 2.06-.94-2.06-.94L8.5 2.5l-.94 2.06-2.06.94zm10 10l.94 2.06.94-2.06 2.06-.94-2.06-.94-.94-2.06-.94 2.06-2.06.94z\"/><path d=\"M17.41 7.96l-1.37-1.37c-.4-.4-.92-.59-1.43-.59-.52 0-1.04.2-1.43.59L10.3 9.45l-7.72 7.72c-.78.78-.78 2.05 0 2.83L4 21.41c.39.39.9.59 1.41.59.51 0 1.02-.2 1.41-.59l7.78-7.78 2.81-2.81c.8-.78.8-2.07 0-2.86zM5.41 20L4 18.59l7.72-7.72 1.47 1.35L5.41 20z\"/>\n",
              "  </svg>\n",
              "      </button>\n",
              "      \n",
              "  <style>\n",
              "    .colab-df-container {\n",
              "      display:flex;\n",
              "      flex-wrap:wrap;\n",
              "      gap: 12px;\n",
              "    }\n",
              "\n",
              "    .colab-df-convert {\n",
              "      background-color: #E8F0FE;\n",
              "      border: none;\n",
              "      border-radius: 50%;\n",
              "      cursor: pointer;\n",
              "      display: none;\n",
              "      fill: #1967D2;\n",
              "      height: 32px;\n",
              "      padding: 0 0 0 0;\n",
              "      width: 32px;\n",
              "    }\n",
              "\n",
              "    .colab-df-convert:hover {\n",
              "      background-color: #E2EBFA;\n",
              "      box-shadow: 0px 1px 2px rgba(60, 64, 67, 0.3), 0px 1px 3px 1px rgba(60, 64, 67, 0.15);\n",
              "      fill: #174EA6;\n",
              "    }\n",
              "\n",
              "    [theme=dark] .colab-df-convert {\n",
              "      background-color: #3B4455;\n",
              "      fill: #D2E3FC;\n",
              "    }\n",
              "\n",
              "    [theme=dark] .colab-df-convert:hover {\n",
              "      background-color: #434B5C;\n",
              "      box-shadow: 0px 1px 3px 1px rgba(0, 0, 0, 0.15);\n",
              "      filter: drop-shadow(0px 1px 2px rgba(0, 0, 0, 0.3));\n",
              "      fill: #FFFFFF;\n",
              "    }\n",
              "  </style>\n",
              "\n",
              "      <script>\n",
              "        const buttonEl =\n",
              "          document.querySelector('#df-e5a7fe81-0f50-41ec-acc5-21261c58211d button.colab-df-convert');\n",
              "        buttonEl.style.display =\n",
              "          google.colab.kernel.accessAllowed ? 'block' : 'none';\n",
              "\n",
              "        async function convertToInteractive(key) {\n",
              "          const element = document.querySelector('#df-e5a7fe81-0f50-41ec-acc5-21261c58211d');\n",
              "          const dataTable =\n",
              "            await google.colab.kernel.invokeFunction('convertToInteractive',\n",
              "                                                     [key], {});\n",
              "          if (!dataTable) return;\n",
              "\n",
              "          const docLinkHtml = 'Like what you see? Visit the ' +\n",
              "            '<a target=\"_blank\" href=https://colab.research.google.com/notebooks/data_table.ipynb>data table notebook</a>'\n",
              "            + ' to learn more about interactive tables.';\n",
              "          element.innerHTML = '';\n",
              "          dataTable['output_type'] = 'display_data';\n",
              "          await google.colab.output.renderOutput(dataTable, element);\n",
              "          const docLink = document.createElement('div');\n",
              "          docLink.innerHTML = docLinkHtml;\n",
              "          element.appendChild(docLink);\n",
              "        }\n",
              "      </script>\n",
              "    </div>\n",
              "  </div>\n",
              "  "
            ]
          },
          "metadata": {},
          "execution_count": 39
        }
      ]
    },
    {
      "cell_type": "code",
      "source": [
        "type(dataframe['Date'][0])"
      ],
      "metadata": {
        "colab": {
          "base_uri": "https://localhost:8080/"
        },
        "id": "MPoFqOAJEXGk",
        "outputId": "6b86f13f-920a-43b0-baef-9cf9bcc7fc43"
      },
      "execution_count": 42,
      "outputs": [
        {
          "output_type": "execute_result",
          "data": {
            "text/plain": [
              "str"
            ]
          },
          "metadata": {},
          "execution_count": 42
        }
      ]
    },
    {
      "cell_type": "code",
      "source": [
        "df = dataframe[['Date', 'Close']]\n",
        "df['Date'] = pd.to_datetime(df['Date'])"
      ],
      "metadata": {
        "colab": {
          "base_uri": "https://localhost:8080/"
        },
        "id": "rSgtelisEC29",
        "outputId": "c30964d7-b743-40b9-cd8a-a3979a97c1c0"
      },
      "execution_count": 38,
      "outputs": [
        {
          "output_type": "stream",
          "name": "stderr",
          "text": [
            "<ipython-input-38-58780e2957dd>:2: SettingWithCopyWarning: \n",
            "A value is trying to be set on a copy of a slice from a DataFrame.\n",
            "Try using .loc[row_indexer,col_indexer] = value instead\n",
            "\n",
            "See the caveats in the documentation: https://pandas.pydata.org/pandas-docs/stable/user_guide/indexing.html#returning-a-view-versus-a-copy\n",
            "  df['Date'] = pd.to_datetime(df['Date'])\n"
          ]
        }
      ]
    },
    {
      "cell_type": "code",
      "source": [
        "type(df['Date'][0])"
      ],
      "metadata": {
        "colab": {
          "base_uri": "https://localhost:8080/"
        },
        "id": "5wlyFUSFEUwh",
        "outputId": "c34d7dce-0025-4efa-d8fd-42b9224aa235"
      },
      "execution_count": 43,
      "outputs": [
        {
          "output_type": "execute_result",
          "data": {
            "text/plain": [
              "pandas._libs.tslibs.timestamps.Timestamp"
            ]
          },
          "metadata": {},
          "execution_count": 43
        }
      ]
    },
    {
      "cell_type": "code",
      "source": [
        "df['Date'][0].date()"
      ],
      "metadata": {
        "colab": {
          "base_uri": "https://localhost:8080/"
        },
        "id": "_0HTWkT-Eu4C",
        "outputId": "9295b1cc-ef4a-4245-a18a-80dd8f2b79f3"
      },
      "execution_count": 46,
      "outputs": [
        {
          "output_type": "execute_result",
          "data": {
            "text/plain": [
              "datetime.date(1962, 1, 2)"
            ]
          },
          "metadata": {},
          "execution_count": 46
        }
      ]
    },
    {
      "cell_type": "code",
      "source": [
        "sns.lineplot(x=df['Date'], y=df['Close'])\n",
        "\n",
        "print(\"Start date is: \", df['Date'].min())\n",
        "print(\"End date is: \", df['Date'].max())\n",
        "\n",
        "#Change train data from Mid 2017 to 2019.... seems to be a jump early 2017\n",
        "train, test = df.loc[df['Date'] <= '2017-12-31'], df.loc[df['Date'] > '2017-12-31']"
      ],
      "metadata": {
        "colab": {
          "base_uri": "https://localhost:8080/",
          "height": 485
        },
        "id": "fv8O9vhjD-oa",
        "outputId": "ce49f226-c3e9-4097-c2d1-89dfcdf63adc"
      },
      "execution_count": 50,
      "outputs": [
        {
          "output_type": "stream",
          "name": "stdout",
          "text": [
            "Start date is:  1962-01-02 00:00:00\n",
            "End date is:  2023-04-21 00:00:00\n"
          ]
        },
        {
          "output_type": "display_data",
          "data": {
            "text/plain": [
              "<Figure size 640x480 with 1 Axes>"
            ],
            "image/png": "[encoded data removed]"
          },
          "metadata": {}
        }
      ]
    },
    {
      "cell_type": "code",
      "source": [
        "print( len(train), len(test) )"
      ],
      "metadata": {
        "colab": {
          "base_uri": "https://localhost:8080/"
        },
        "id": "1wr7HMZTE_vJ",
        "outputId": "84f93910-a7fb-49f4-a0cd-1a830f1cbb1a"
      },
      "execution_count": 52,
      "outputs": [
        {
          "output_type": "stream",
          "name": "stdout",
          "text": [
            "14097 1335\n"
          ]
        }
      ]
    },
    {
      "cell_type": "code",
      "execution_count": 53,
      "metadata": {
        "colab": {
          "base_uri": "https://localhost:8080/"
        },
        "id": "E4XL7jfiBXgz",
        "outputId": "534f7383-f0e6-4b8d-8d8b-00ff964b6fbd"
      },
      "outputs": [
        {
          "output_type": "stream",
          "name": "stderr",
          "text": [
            "<ipython-input-53-61dbea5b77ab>:11: SettingWithCopyWarning: \n",
            "A value is trying to be set on a copy of a slice from a DataFrame.\n",
            "Try using .loc[row_indexer,col_indexer] = value instead\n",
            "\n",
            "See the caveats in the documentation: https://pandas.pydata.org/pandas-docs/stable/user_guide/indexing.html#returning-a-view-versus-a-copy\n",
            "  train['Close'] = scaler.transform(train[['Close']])\n",
            "<ipython-input-53-61dbea5b77ab>:12: SettingWithCopyWarning: \n",
            "A value is trying to be set on a copy of a slice from a DataFrame.\n",
            "Try using .loc[row_indexer,col_indexer] = value instead\n",
            "\n",
            "See the caveats in the documentation: https://pandas.pydata.org/pandas-docs/stable/user_guide/indexing.html#returning-a-view-versus-a-copy\n",
            "  test['Close'] = scaler.transform(test[['Close']])\n"
          ]
        }
      ],
      "source": [
        "#Convert pandas dataframe to numpy array\n",
        "#dataset = dataframe.values\n",
        "#dataset = dataset.astype('float32') #COnvert values to float\n",
        "\n",
        "#LSTM uses sigmoid and tanh that are sensitive to magnitude so values need to be normalized\n",
        "# normalize the dataset\n",
        "#scaler = MinMaxScaler() #Also try QuantileTransformer\n",
        "scaler = StandardScaler()\n",
        "scaler = scaler.fit(train[['Close']])\n",
        "\n",
        "train['Close'] = scaler.transform(train[['Close']])\n",
        "test['Close'] = scaler.transform(test[['Close']])"
      ]
    },
    {
      "cell_type": "code",
      "execution_count": 54,
      "metadata": {
        "id": "LqBMUrWQBXgz"
      },
      "outputs": [],
      "source": [
        "#As required for LSTM networks, we require to reshape an input data into n_samples x timesteps x n_features. \n",
        "#In this example, the n_features is 2. We will make timesteps = 3. \n",
        "#With this, the resultant n_samples is 5 (as the input data has 9 rows).\n",
        "\n",
        "seq_size = 30  # Number of time steps to look back \n",
        "#Larger sequences (look further back) may improve forecasting.\n",
        "\n",
        "\n",
        "def to_sequences(x, y, seq_size=1):\n",
        "    x_values = []\n",
        "    y_values = []\n",
        "\n",
        "    for i in range(len(x)-seq_size):\n",
        "        #print(i)\n",
        "        x_values.append(x.iloc[i:(i+seq_size)].values)\n",
        "        y_values.append(y.iloc[i+seq_size])\n",
        "        \n",
        "    return np.array(x_values), np.array(y_values)\n",
        "\n",
        "trainX, trainY = to_sequences(train[['Close']], train['Close'], seq_size)\n",
        "testX, testY = to_sequences(test[['Close']], test['Close'], seq_size)"
      ]
    },
    {
      "cell_type": "code",
      "source": [
        "print(trainX)"
      ],
      "metadata": {
        "colab": {
          "base_uri": "https://localhost:8080/"
        },
        "id": "NFJBQaM9FkVX",
        "outputId": "2a1c0788-50a5-4c68-8646-237bbdb9fd8b"
      },
      "execution_count": 55,
      "outputs": [
        {
          "output_type": "stream",
          "name": "stdout",
          "text": [
            "[[[-0.84535562]\n",
            "  [-0.84590733]\n",
            "  [-0.84655102]\n",
            "  ...\n",
            "  [-0.84480388]\n",
            "  [-0.84507975]\n",
            "  [-0.84507975]]\n",
            "\n",
            " [[-0.84590733]\n",
            "  [-0.84655102]\n",
            "  [-0.84793033]\n",
            "  ...\n",
            "  [-0.84507975]\n",
            "  [-0.84507975]\n",
            "  [-0.84443607]]\n",
            "\n",
            " [[-0.84655102]\n",
            "  [-0.84793033]\n",
            "  [-0.84802228]\n",
            "  ...\n",
            "  [-0.84507975]\n",
            "  [-0.84443607]\n",
            "  [-0.8439763 ]]\n",
            "\n",
            " ...\n",
            "\n",
            " [[ 0.44286401]\n",
            "  [ 0.36376864]\n",
            "  [ 0.38919216]\n",
            "  ...\n",
            "  [ 0.33340171]\n",
            "  [ 0.3355204 ]\n",
            "  [ 0.33057689]]\n",
            "\n",
            " [[ 0.36376864]\n",
            "  [ 0.38919216]\n",
            "  [ 0.38848602]\n",
            "  ...\n",
            "  [ 0.3355204 ]\n",
            "  [ 0.33057689]\n",
            "  [ 0.32704584]]\n",
            "\n",
            " [[ 0.38919216]\n",
            "  [ 0.38848602]\n",
            "  [ 0.38566119]\n",
            "  ...\n",
            "  [ 0.33057689]\n",
            "  [ 0.32704584]\n",
            "  [ 0.32563346]]]\n"
          ]
        }
      ]
    },
    {
      "cell_type": "code",
      "execution_count": 56,
      "metadata": {
        "colab": {
          "base_uri": "https://localhost:8080/"
        },
        "id": "tbAzIgWRBXg0",
        "outputId": "cf483b39-f9fc-4aa5-86aa-a62782b55c0b"
      },
      "outputs": [
        {
          "output_type": "stream",
          "name": "stdout",
          "text": [
            "Model: \"sequential_3\"\n",
            "_________________________________________________________________\n",
            " Layer (type)                Output Shape              Param #   \n",
            "=================================================================\n",
            " lstm_12 (LSTM)              (None, 128)               66560     \n",
            "                                                                 \n",
            " dropout (Dropout)           (None, 128)               0         \n",
            "                                                                 \n",
            " repeat_vector_2 (RepeatVect  (None, 30, 128)          0         \n",
            " or)                                                             \n",
            "                                                                 \n",
            " lstm_13 (LSTM)              (None, 30, 128)           131584    \n",
            "                                                                 \n",
            " dropout_1 (Dropout)         (None, 30, 128)           0         \n",
            "                                                                 \n",
            " time_distributed_3 (TimeDis  (None, 30, 1)            129       \n",
            " tributed)                                                       \n",
            "                                                                 \n",
            "=================================================================\n",
            "Total params: 198,273\n",
            "Trainable params: 198,273\n",
            "Non-trainable params: 0\n",
            "_________________________________________________________________\n"
          ]
        }
      ],
      "source": [
        "\n",
        "# define Autoencoder model\n",
        "#Input shape would be seq_size, 1 - 1 beacuse we have 1 feature. \n",
        "# seq_size = trainX.shape[1]\n",
        "\n",
        "# model = Sequential()\n",
        "# model.add(LSTM(128, activation='relu', input_shape=(trainX.shape[1], trainX.shape[2]), return_sequences=True))\n",
        "# model.add(LSTM(64, activation='relu', return_sequences=False))\n",
        "# model.add(RepeatVector(trainX.shape[1]))\n",
        "# model.add(LSTM(64, activation='relu', return_sequences=True))\n",
        "# model.add(LSTM(128, activation='relu', return_sequences=True))\n",
        "# model.add(TimeDistributed(Dense(trainX.shape[2])))\n",
        "\n",
        "# model.compile(optimizer='adam', loss='mse')\n",
        "# model.summary()\n",
        "\n",
        "#Try another model\n",
        "model = Sequential()\n",
        "model.add(LSTM(128, input_shape=(trainX.shape[1], trainX.shape[2])))\n",
        "model.add(Dropout(rate=0.2))\n",
        "\n",
        "model.add(RepeatVector(trainX.shape[1]))\n",
        "\n",
        "model.add(LSTM(128, return_sequences=True))\n",
        "model.add(Dropout(rate=0.2))\n",
        "model.add(TimeDistributed(Dense(trainX.shape[2])))\n",
        "model.compile(optimizer='adam', loss='mae')\n",
        "model.summary()\n"
      ]
    },
    {
      "cell_type": "code",
      "execution_count": 57,
      "metadata": {
        "colab": {
          "base_uri": "https://localhost:8080/",
          "height": 1000
        },
        "id": "1MAeSSuhBXg0",
        "outputId": "d564ec1c-de35-4f79-cb35-f797e7f88823"
      },
      "outputs": [
        {
          "output_type": "stream",
          "name": "stdout",
          "text": [
            "Epoch 1/10\n",
            "396/396 [==============================] - 50s 115ms/step - loss: 0.7155 - val_loss: 1.6166\n",
            "Epoch 2/10\n",
            "396/396 [==============================] - 50s 128ms/step - loss: 0.7072 - val_loss: 1.5907\n",
            "Epoch 3/10\n",
            "396/396 [==============================] - 46s 117ms/step - loss: 0.7067 - val_loss: 1.5702\n",
            "Epoch 4/10\n",
            "396/396 [==============================] - 52s 133ms/step - loss: 0.7058 - val_loss: 1.5409\n",
            "Epoch 5/10\n",
            "396/396 [==============================] - 44s 112ms/step - loss: 0.7057 - val_loss: 1.5790\n",
            "Epoch 6/10\n",
            "396/396 [==============================] - 43s 108ms/step - loss: 0.7057 - val_loss: 1.5288\n",
            "Epoch 7/10\n",
            "396/396 [==============================] - 48s 121ms/step - loss: 0.7057 - val_loss: 1.5673\n",
            "Epoch 8/10\n",
            "396/396 [==============================] - 43s 107ms/step - loss: 0.7054 - val_loss: 1.5195\n",
            "Epoch 9/10\n",
            "396/396 [==============================] - 43s 108ms/step - loss: 0.7059 - val_loss: 1.5598\n",
            "Epoch 10/10\n",
            "396/396 [==============================] - 45s 112ms/step - loss: 0.7056 - val_loss: 1.5803\n",
            "440/440 [==============================] - 17s 36ms/step\n",
            "41/41 [==============================] - 1s 30ms/step\n"
          ]
        },
        {
          "output_type": "execute_result",
          "data": {
            "text/plain": [
              "(array([ 65.,  53.,  41.,  17.,  13.,  22.,  41.,  65.,  51.,  52.,  74.,\n",
              "         67.,  61.,  27.,  51.,  53.,  42.,  96.,  44.,  36., 148., 100.,\n",
              "         31.,  21.,  10.,  11.,   5.,   2.,   3.,   3.]),\n",
              " array([0.2388484 , 0.26214151, 0.28543462, 0.30872772, 0.33202083,\n",
              "        0.35531394, 0.37860705, 0.40190015, 0.42519326, 0.44848637,\n",
              "        0.47177947, 0.49507258, 0.51836569, 0.5416588 , 0.5649519 ,\n",
              "        0.58824501, 0.61153812, 0.63483122, 0.65812433, 0.68141744,\n",
              "        0.70471055, 0.72800365, 0.75129676, 0.77458987, 0.79788297,\n",
              "        0.82117608, 0.84446919, 0.8677623 , 0.8910554 , 0.91434851,\n",
              "        0.93764162]),\n",
              " <BarContainer object of 30 artists>)"
            ]
          },
          "metadata": {},
          "execution_count": 57
        },
        {
          "output_type": "display_data",
          "data": {
            "text/plain": [
              "<Figure size 640x480 with 1 Axes>"
            ],
            "image/png": "[encoded data removed]"
          },
          "metadata": {}
        }
      ],
      "source": [
        "# fit model\n",
        "history = model.fit(trainX, trainY, epochs=10, batch_size=32, validation_split=0.1, verbose=1)\n",
        "\n",
        "plt.plot(history.history['loss'], label='Training loss')\n",
        "plt.plot(history.history['val_loss'], label='Validation loss')\n",
        "plt.legend()\n",
        "\n",
        "#model.evaluate(testX, testY)\n",
        "\n",
        "###########################\n",
        "#Anomaly is where reconstruction error is large.\n",
        "#We can define this value beyond which we call anomaly.\n",
        "#Let us look at MAE in training prediction\n",
        "\n",
        "trainPredict = model.predict(trainX)\n",
        "trainMAE = np.mean(np.abs(trainPredict - trainX), axis=1)\n",
        "plt.hist(trainMAE, bins=30)\n",
        "max_trainMAE = 0.3  #or Define 90% value of max as threshold.\n",
        "\n",
        "testPredict = model.predict(testX)\n",
        "testMAE = np.mean(np.abs(testPredict - testX), axis=1)\n",
        "plt.hist(testMAE, bins=30)\n"
      ]
    },
    {
      "cell_type": "code",
      "execution_count": 58,
      "metadata": {
        "colab": {
          "base_uri": "https://localhost:8080/",
          "height": 467
        },
        "id": "iFrIkb0jBXg0",
        "outputId": "77c3df17-688f-4e2f-a555-700851002604"
      },
      "outputs": [
        {
          "output_type": "execute_result",
          "data": {
            "text/plain": [
              "<Axes: xlabel='Date', ylabel='testMAE'>"
            ]
          },
          "metadata": {},
          "execution_count": 58
        },
        {
          "output_type": "display_data",
          "data": {
            "text/plain": [
              "<Figure size 640x480 with 1 Axes>"
            ],
            "image/png": "[encoded data removed]"
          },
          "metadata": {}
        }
      ],
      "source": [
        "\n",
        "#Capture all details in a DataFrame for easy plotting\n",
        "anomaly_df = pd.DataFrame(test[seq_size:])\n",
        "anomaly_df['testMAE'] = testMAE\n",
        "anomaly_df['max_trainMAE'] = max_trainMAE\n",
        "anomaly_df['anomaly'] = anomaly_df['testMAE'] > anomaly_df['max_trainMAE']\n",
        "anomaly_df['Close'] = test[seq_size:]['Close']\n",
        "\n",
        "#Plot testMAE vs max_trainMAE\n",
        "sns.lineplot(x=anomaly_df['Date'], y=anomaly_df['testMAE'])\n",
        "sns.lineplot(x=anomaly_df['Date'], y=anomaly_df['max_trainMAE'])\n",
        "\n",
        "anomalies = anomaly_df.loc[anomaly_df['anomaly'] == True]\n",
        "\n",
        "#Plot anomalies\n",
        "temp = np.array(anomaly_df['Close']).reshape(len(anomaly_df['Close']),1)\n",
        "temp2 = np.array(anomalies['Close']).reshape(len(anomalies['Close']),1)\n",
        "y = scaler.inverse_transform(temp).reshape(-1)\n",
        "y2 = scaler.inverse_transform(temp2).reshape(-1,1).reshape(-1)\n",
        "\n",
        "sns.lineplot(x=anomaly_df['Date'], y=y)\n",
        "sns.scatterplot(x=anomalies['Date'], y=y2, color='r')"
      ]
    }
  ],
  "metadata": {
    "colab": {
      "provenance": []
    },
    "kernelspec": {
      "display_name": "Python 3",
      "name": "python3"
    },
    "language_info": {
      "name": "python"
    }
  },
  "nbformat": 4,
  "nbformat_minor": 0
}